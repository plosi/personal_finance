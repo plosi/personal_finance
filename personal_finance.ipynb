{
 "cells": [
  {
   "cell_type": "code",
   "execution_count": 1,
   "metadata": {},
   "outputs": [],
   "source": [
    "import pandas as pd\n",
    "import plotly.express as px\n",
    "\n",
    "import warnings\n",
    "warnings.filterwarnings('ignore')"
   ]
  },
  {
   "cell_type": "code",
   "execution_count": 2,
   "metadata": {},
   "outputs": [],
   "source": [
    "fname = 'personal_finance.xlsx'\n",
    "\n",
    "accounts = pd.read_excel(fname, sheet_name='accounts')\n",
    "incomes = pd.read_excel(fname, sheet_name='incomes')\n",
    "expenses = pd.read_excel(fname, sheet_name='expenses')\n"
   ]
  },
  {
   "cell_type": "code",
   "execution_count": 3,
   "metadata": {},
   "outputs": [
    {
     "data": {
      "text/html": [
       "<div>\n",
       "<style scoped>\n",
       "    .dataframe tbody tr th:only-of-type {\n",
       "        vertical-align: middle;\n",
       "    }\n",
       "\n",
       "    .dataframe tbody tr th {\n",
       "        vertical-align: top;\n",
       "    }\n",
       "\n",
       "    .dataframe thead th {\n",
       "        text-align: right;\n",
       "    }\n",
       "</style>\n",
       "<table border=\"1\" class=\"dataframe\">\n",
       "  <thead>\n",
       "    <tr style=\"text-align: right;\">\n",
       "      <th></th>\n",
       "      <th>date</th>\n",
       "      <th>account</th>\n",
       "      <th>description</th>\n",
       "      <th>currency</th>\n",
       "      <th>amount</th>\n",
       "      <th>category</th>\n",
       "    </tr>\n",
       "  </thead>\n",
       "  <tbody>\n",
       "    <tr>\n",
       "      <th>0</th>\n",
       "      <td>2019-12-31</td>\n",
       "      <td>sella</td>\n",
       "      <td>balance</td>\n",
       "      <td>EUR</td>\n",
       "      <td>142.33</td>\n",
       "      <td>wants</td>\n",
       "    </tr>\n",
       "    <tr>\n",
       "      <th>1</th>\n",
       "      <td>2019-12-31</td>\n",
       "      <td>sella</td>\n",
       "      <td>savings</td>\n",
       "      <td>EUR</td>\n",
       "      <td>12000.00</td>\n",
       "      <td>savings</td>\n",
       "    </tr>\n",
       "    <tr>\n",
       "      <th>2</th>\n",
       "      <td>2020-01-31</td>\n",
       "      <td>sella</td>\n",
       "      <td>balance</td>\n",
       "      <td>EUR</td>\n",
       "      <td>131.30</td>\n",
       "      <td>wants</td>\n",
       "    </tr>\n",
       "    <tr>\n",
       "      <th>3</th>\n",
       "      <td>2020-04-30</td>\n",
       "      <td>sella</td>\n",
       "      <td>balance</td>\n",
       "      <td>EUR</td>\n",
       "      <td>0.98</td>\n",
       "      <td>wants</td>\n",
       "    </tr>\n",
       "    <tr>\n",
       "      <th>4</th>\n",
       "      <td>2020-06-30</td>\n",
       "      <td>sella</td>\n",
       "      <td>balance</td>\n",
       "      <td>EUR</td>\n",
       "      <td>1056.00</td>\n",
       "      <td>wants</td>\n",
       "    </tr>\n",
       "  </tbody>\n",
       "</table>\n",
       "</div>"
      ],
      "text/plain": [
       "        date account description currency    amount category\n",
       "0 2019-12-31   sella     balance      EUR    142.33    wants\n",
       "1 2019-12-31   sella     savings      EUR  12000.00  savings\n",
       "2 2020-01-31   sella     balance      EUR    131.30    wants\n",
       "3 2020-04-30   sella     balance      EUR      0.98    wants\n",
       "4 2020-06-30   sella     balance      EUR   1056.00    wants"
      ]
     },
     "execution_count": 3,
     "metadata": {},
     "output_type": "execute_result"
    }
   ],
   "source": [
    "expenses.head()"
   ]
  },
  {
   "cell_type": "code",
   "execution_count": 4,
   "metadata": {},
   "outputs": [],
   "source": [
    "expenses['amount'] = expenses.amount * -1"
   ]
  },
  {
   "cell_type": "code",
   "execution_count": 5,
   "metadata": {},
   "outputs": [
    {
     "data": {
      "text/html": [
       "<div>\n",
       "<style scoped>\n",
       "    .dataframe tbody tr th:only-of-type {\n",
       "        vertical-align: middle;\n",
       "    }\n",
       "\n",
       "    .dataframe tbody tr th {\n",
       "        vertical-align: top;\n",
       "    }\n",
       "\n",
       "    .dataframe thead th {\n",
       "        text-align: right;\n",
       "    }\n",
       "</style>\n",
       "<table border=\"1\" class=\"dataframe\">\n",
       "  <thead>\n",
       "    <tr style=\"text-align: right;\">\n",
       "      <th></th>\n",
       "      <th>date</th>\n",
       "      <th>account</th>\n",
       "      <th>description</th>\n",
       "      <th>currency</th>\n",
       "      <th>amount</th>\n",
       "      <th>category</th>\n",
       "    </tr>\n",
       "  </thead>\n",
       "  <tbody>\n",
       "    <tr>\n",
       "      <th>0</th>\n",
       "      <td>2019-12-31</td>\n",
       "      <td>sella</td>\n",
       "      <td>balance</td>\n",
       "      <td>EUR</td>\n",
       "      <td>-142.33</td>\n",
       "      <td>wants</td>\n",
       "    </tr>\n",
       "    <tr>\n",
       "      <th>1</th>\n",
       "      <td>2019-12-31</td>\n",
       "      <td>sella</td>\n",
       "      <td>savings</td>\n",
       "      <td>EUR</td>\n",
       "      <td>-12000.00</td>\n",
       "      <td>savings</td>\n",
       "    </tr>\n",
       "    <tr>\n",
       "      <th>2</th>\n",
       "      <td>2020-01-31</td>\n",
       "      <td>sella</td>\n",
       "      <td>balance</td>\n",
       "      <td>EUR</td>\n",
       "      <td>-131.30</td>\n",
       "      <td>wants</td>\n",
       "    </tr>\n",
       "    <tr>\n",
       "      <th>3</th>\n",
       "      <td>2020-04-30</td>\n",
       "      <td>sella</td>\n",
       "      <td>balance</td>\n",
       "      <td>EUR</td>\n",
       "      <td>-0.98</td>\n",
       "      <td>wants</td>\n",
       "    </tr>\n",
       "    <tr>\n",
       "      <th>4</th>\n",
       "      <td>2020-06-30</td>\n",
       "      <td>sella</td>\n",
       "      <td>balance</td>\n",
       "      <td>EUR</td>\n",
       "      <td>-1056.00</td>\n",
       "      <td>wants</td>\n",
       "    </tr>\n",
       "  </tbody>\n",
       "</table>\n",
       "</div>"
      ],
      "text/plain": [
       "        date account description currency    amount category\n",
       "0 2019-12-31   sella     balance      EUR   -142.33    wants\n",
       "1 2019-12-31   sella     savings      EUR -12000.00  savings\n",
       "2 2020-01-31   sella     balance      EUR   -131.30    wants\n",
       "3 2020-04-30   sella     balance      EUR     -0.98    wants\n",
       "4 2020-06-30   sella     balance      EUR  -1056.00    wants"
      ]
     },
     "execution_count": 5,
     "metadata": {},
     "output_type": "execute_result"
    }
   ],
   "source": [
    "expenses.head()"
   ]
  },
  {
   "cell_type": "code",
   "execution_count": 6,
   "metadata": {},
   "outputs": [],
   "source": [
    "df = pd.concat([incomes,expenses])"
   ]
  },
  {
   "cell_type": "code",
   "execution_count": 7,
   "metadata": {},
   "outputs": [],
   "source": [
    "df['month'] = df.date.dt.month\n",
    "df['year'] = df.date.dt.year"
   ]
  },
  {
   "cell_type": "code",
   "execution_count": 8,
   "metadata": {},
   "outputs": [],
   "source": [
    "grouped = df.groupby(['year', 'month', 'account', 'category', 'currency']).agg({'amount':'sum'}).reset_index()"
   ]
  },
  {
   "cell_type": "code",
   "execution_count": 9,
   "metadata": {},
   "outputs": [
    {
     "data": {
      "text/html": [
       "<div>\n",
       "<style scoped>\n",
       "    .dataframe tbody tr th:only-of-type {\n",
       "        vertical-align: middle;\n",
       "    }\n",
       "\n",
       "    .dataframe tbody tr th {\n",
       "        vertical-align: top;\n",
       "    }\n",
       "\n",
       "    .dataframe thead th {\n",
       "        text-align: right;\n",
       "    }\n",
       "</style>\n",
       "<table border=\"1\" class=\"dataframe\">\n",
       "  <thead>\n",
       "    <tr style=\"text-align: right;\">\n",
       "      <th></th>\n",
       "      <th>year</th>\n",
       "      <th>month</th>\n",
       "      <th>account</th>\n",
       "      <th>category</th>\n",
       "      <th>currency</th>\n",
       "      <th>amount</th>\n",
       "      <th>balance</th>\n",
       "    </tr>\n",
       "  </thead>\n",
       "  <tbody>\n",
       "    <tr>\n",
       "      <th>0</th>\n",
       "      <td>2019</td>\n",
       "      <td>11</td>\n",
       "      <td>sella</td>\n",
       "      <td>income</td>\n",
       "      <td>EUR</td>\n",
       "      <td>17606.36</td>\n",
       "      <td>17606.360000</td>\n",
       "    </tr>\n",
       "    <tr>\n",
       "      <th>1</th>\n",
       "      <td>2019</td>\n",
       "      <td>12</td>\n",
       "      <td>sella</td>\n",
       "      <td>income</td>\n",
       "      <td>EUR</td>\n",
       "      <td>921.00</td>\n",
       "      <td>18527.360000</td>\n",
       "    </tr>\n",
       "    <tr>\n",
       "      <th>2</th>\n",
       "      <td>2019</td>\n",
       "      <td>12</td>\n",
       "      <td>sella</td>\n",
       "      <td>savings</td>\n",
       "      <td>EUR</td>\n",
       "      <td>-12000.00</td>\n",
       "      <td>6527.360000</td>\n",
       "    </tr>\n",
       "    <tr>\n",
       "      <th>3</th>\n",
       "      <td>2019</td>\n",
       "      <td>12</td>\n",
       "      <td>sella</td>\n",
       "      <td>wants</td>\n",
       "      <td>EUR</td>\n",
       "      <td>-142.33</td>\n",
       "      <td>6385.030000</td>\n",
       "    </tr>\n",
       "    <tr>\n",
       "      <th>4</th>\n",
       "      <td>2020</td>\n",
       "      <td>1</td>\n",
       "      <td>sella</td>\n",
       "      <td>income</td>\n",
       "      <td>EUR</td>\n",
       "      <td>1918.00</td>\n",
       "      <td>8303.030000</td>\n",
       "    </tr>\n",
       "    <tr>\n",
       "      <th>...</th>\n",
       "      <td>...</td>\n",
       "      <td>...</td>\n",
       "      <td>...</td>\n",
       "      <td>...</td>\n",
       "      <td>...</td>\n",
       "      <td>...</td>\n",
       "      <td>...</td>\n",
       "    </tr>\n",
       "    <tr>\n",
       "      <th>137</th>\n",
       "      <td>2024</td>\n",
       "      <td>3</td>\n",
       "      <td>sella</td>\n",
       "      <td>wants</td>\n",
       "      <td>EUR</td>\n",
       "      <td>-675.64</td>\n",
       "      <td>5620.380273</td>\n",
       "    </tr>\n",
       "    <tr>\n",
       "      <th>139</th>\n",
       "      <td>2024</td>\n",
       "      <td>4</td>\n",
       "      <td>sella</td>\n",
       "      <td>needs</td>\n",
       "      <td>EUR</td>\n",
       "      <td>-319.52</td>\n",
       "      <td>5300.860273</td>\n",
       "    </tr>\n",
       "    <tr>\n",
       "      <th>140</th>\n",
       "      <td>2024</td>\n",
       "      <td>4</td>\n",
       "      <td>sella</td>\n",
       "      <td>rent</td>\n",
       "      <td>EUR</td>\n",
       "      <td>1212.00</td>\n",
       "      <td>6512.860273</td>\n",
       "    </tr>\n",
       "    <tr>\n",
       "      <th>141</th>\n",
       "      <td>2024</td>\n",
       "      <td>4</td>\n",
       "      <td>sella</td>\n",
       "      <td>transfer</td>\n",
       "      <td>EUR</td>\n",
       "      <td>-500.00</td>\n",
       "      <td>6012.860273</td>\n",
       "    </tr>\n",
       "    <tr>\n",
       "      <th>142</th>\n",
       "      <td>2024</td>\n",
       "      <td>4</td>\n",
       "      <td>sella</td>\n",
       "      <td>wants</td>\n",
       "      <td>EUR</td>\n",
       "      <td>-25.10</td>\n",
       "      <td>5987.760273</td>\n",
       "    </tr>\n",
       "  </tbody>\n",
       "</table>\n",
       "<p>108 rows × 7 columns</p>\n",
       "</div>"
      ],
      "text/plain": [
       "     year  month account  category currency    amount       balance\n",
       "0    2019     11   sella    income      EUR  17606.36  17606.360000\n",
       "1    2019     12   sella    income      EUR    921.00  18527.360000\n",
       "2    2019     12   sella   savings      EUR -12000.00   6527.360000\n",
       "3    2019     12   sella     wants      EUR   -142.33   6385.030000\n",
       "4    2020      1   sella    income      EUR   1918.00   8303.030000\n",
       "..    ...    ...     ...       ...      ...       ...           ...\n",
       "137  2024      3   sella     wants      EUR   -675.64   5620.380273\n",
       "139  2024      4   sella     needs      EUR   -319.52   5300.860273\n",
       "140  2024      4   sella      rent      EUR   1212.00   6512.860273\n",
       "141  2024      4   sella  transfer      EUR   -500.00   6012.860273\n",
       "142  2024      4   sella     wants      EUR    -25.10   5987.760273\n",
       "\n",
       "[108 rows x 7 columns]"
      ]
     },
     "execution_count": 9,
     "metadata": {},
     "output_type": "execute_result"
    }
   ],
   "source": [
    "sella = grouped[grouped.account == 'sella']\n",
    "sella['balance'] = sella['amount'].cumsum()\n",
    "sella['account'] = 'sella'\n",
    "sella"
   ]
  },
  {
   "cell_type": "code",
   "execution_count": 10,
   "metadata": {},
   "outputs": [
    {
     "data": {
      "text/html": [
       "<div>\n",
       "<style scoped>\n",
       "    .dataframe tbody tr th:only-of-type {\n",
       "        vertical-align: middle;\n",
       "    }\n",
       "\n",
       "    .dataframe tbody tr th {\n",
       "        vertical-align: top;\n",
       "    }\n",
       "\n",
       "    .dataframe thead th {\n",
       "        text-align: right;\n",
       "    }\n",
       "</style>\n",
       "<table border=\"1\" class=\"dataframe\">\n",
       "  <thead>\n",
       "    <tr style=\"text-align: right;\">\n",
       "      <th></th>\n",
       "      <th></th>\n",
       "      <th>year</th>\n",
       "      <th>month</th>\n",
       "      <th>account</th>\n",
       "      <th>category</th>\n",
       "      <th>currency</th>\n",
       "      <th>amount</th>\n",
       "      <th>balance</th>\n",
       "      <th>(year, )</th>\n",
       "      <th>(month, )</th>\n",
       "      <th>(amount, needs)</th>\n",
       "    </tr>\n",
       "  </thead>\n",
       "  <tbody>\n",
       "    <tr>\n",
       "      <th rowspan=\"5\" valign=\"top\">year</th>\n",
       "      <th>0</th>\n",
       "      <td>2019.0</td>\n",
       "      <td>11.0</td>\n",
       "      <td>sella</td>\n",
       "      <td>income</td>\n",
       "      <td>EUR</td>\n",
       "      <td>17606.36</td>\n",
       "      <td>17606.36</td>\n",
       "      <td>NaN</td>\n",
       "      <td>NaN</td>\n",
       "      <td>NaN</td>\n",
       "    </tr>\n",
       "    <tr>\n",
       "      <th>1</th>\n",
       "      <td>2019.0</td>\n",
       "      <td>12.0</td>\n",
       "      <td>sella</td>\n",
       "      <td>income</td>\n",
       "      <td>EUR</td>\n",
       "      <td>921.00</td>\n",
       "      <td>18527.36</td>\n",
       "      <td>NaN</td>\n",
       "      <td>NaN</td>\n",
       "      <td>NaN</td>\n",
       "    </tr>\n",
       "    <tr>\n",
       "      <th>2</th>\n",
       "      <td>2019.0</td>\n",
       "      <td>12.0</td>\n",
       "      <td>sella</td>\n",
       "      <td>savings</td>\n",
       "      <td>EUR</td>\n",
       "      <td>-12000.00</td>\n",
       "      <td>6527.36</td>\n",
       "      <td>NaN</td>\n",
       "      <td>NaN</td>\n",
       "      <td>NaN</td>\n",
       "    </tr>\n",
       "    <tr>\n",
       "      <th>3</th>\n",
       "      <td>2019.0</td>\n",
       "      <td>12.0</td>\n",
       "      <td>sella</td>\n",
       "      <td>wants</td>\n",
       "      <td>EUR</td>\n",
       "      <td>-142.33</td>\n",
       "      <td>6385.03</td>\n",
       "      <td>NaN</td>\n",
       "      <td>NaN</td>\n",
       "      <td>NaN</td>\n",
       "    </tr>\n",
       "    <tr>\n",
       "      <th>4</th>\n",
       "      <td>2020.0</td>\n",
       "      <td>1.0</td>\n",
       "      <td>sella</td>\n",
       "      <td>income</td>\n",
       "      <td>EUR</td>\n",
       "      <td>1918.00</td>\n",
       "      <td>8303.03</td>\n",
       "      <td>NaN</td>\n",
       "      <td>NaN</td>\n",
       "      <td>NaN</td>\n",
       "    </tr>\n",
       "    <tr>\n",
       "      <th>...</th>\n",
       "      <th>...</th>\n",
       "      <td>...</td>\n",
       "      <td>...</td>\n",
       "      <td>...</td>\n",
       "      <td>...</td>\n",
       "      <td>...</td>\n",
       "      <td>...</td>\n",
       "      <td>...</td>\n",
       "      <td>...</td>\n",
       "      <td>...</td>\n",
       "      <td>...</td>\n",
       "    </tr>\n",
       "    <tr>\n",
       "      <th rowspan=\"5\" valign=\"top\">month</th>\n",
       "      <th>49</th>\n",
       "      <td>NaN</td>\n",
       "      <td>NaN</td>\n",
       "      <td>NaN</td>\n",
       "      <td>NaN</td>\n",
       "      <td>NaN</td>\n",
       "      <td>NaN</td>\n",
       "      <td>NaN</td>\n",
       "      <td>2023.0</td>\n",
       "      <td>12.0</td>\n",
       "      <td>0.00</td>\n",
       "    </tr>\n",
       "    <tr>\n",
       "      <th>50</th>\n",
       "      <td>NaN</td>\n",
       "      <td>NaN</td>\n",
       "      <td>NaN</td>\n",
       "      <td>NaN</td>\n",
       "      <td>NaN</td>\n",
       "      <td>NaN</td>\n",
       "      <td>NaN</td>\n",
       "      <td>2024.0</td>\n",
       "      <td>1.0</td>\n",
       "      <td>0.00</td>\n",
       "    </tr>\n",
       "    <tr>\n",
       "      <th>51</th>\n",
       "      <td>NaN</td>\n",
       "      <td>NaN</td>\n",
       "      <td>NaN</td>\n",
       "      <td>NaN</td>\n",
       "      <td>NaN</td>\n",
       "      <td>NaN</td>\n",
       "      <td>NaN</td>\n",
       "      <td>2024.0</td>\n",
       "      <td>2.0</td>\n",
       "      <td>-4848.00</td>\n",
       "    </tr>\n",
       "    <tr>\n",
       "      <th>52</th>\n",
       "      <td>NaN</td>\n",
       "      <td>NaN</td>\n",
       "      <td>NaN</td>\n",
       "      <td>NaN</td>\n",
       "      <td>NaN</td>\n",
       "      <td>NaN</td>\n",
       "      <td>NaN</td>\n",
       "      <td>2024.0</td>\n",
       "      <td>3.0</td>\n",
       "      <td>-2883.61</td>\n",
       "    </tr>\n",
       "    <tr>\n",
       "      <th>53</th>\n",
       "      <td>NaN</td>\n",
       "      <td>NaN</td>\n",
       "      <td>NaN</td>\n",
       "      <td>NaN</td>\n",
       "      <td>NaN</td>\n",
       "      <td>NaN</td>\n",
       "      <td>NaN</td>\n",
       "      <td>2024.0</td>\n",
       "      <td>4.0</td>\n",
       "      <td>-319.52</td>\n",
       "    </tr>\n",
       "  </tbody>\n",
       "</table>\n",
       "<p>162 rows × 10 columns</p>\n",
       "</div>"
      ],
      "text/plain": [
       "            year  month account category currency    amount   balance  \\\n",
       "year  0   2019.0   11.0   sella   income      EUR  17606.36  17606.36   \n",
       "      1   2019.0   12.0   sella   income      EUR    921.00  18527.36   \n",
       "      2   2019.0   12.0   sella  savings      EUR -12000.00   6527.36   \n",
       "      3   2019.0   12.0   sella    wants      EUR   -142.33   6385.03   \n",
       "      4   2020.0    1.0   sella   income      EUR   1918.00   8303.03   \n",
       "...          ...    ...     ...      ...      ...       ...       ...   \n",
       "month 49     NaN    NaN     NaN      NaN      NaN       NaN       NaN   \n",
       "      50     NaN    NaN     NaN      NaN      NaN       NaN       NaN   \n",
       "      51     NaN    NaN     NaN      NaN      NaN       NaN       NaN   \n",
       "      52     NaN    NaN     NaN      NaN      NaN       NaN       NaN   \n",
       "      53     NaN    NaN     NaN      NaN      NaN       NaN       NaN   \n",
       "\n",
       "          (year, )  (month, )  (amount, needs)  \n",
       "year  0        NaN        NaN              NaN  \n",
       "      1        NaN        NaN              NaN  \n",
       "      2        NaN        NaN              NaN  \n",
       "      3        NaN        NaN              NaN  \n",
       "      4        NaN        NaN              NaN  \n",
       "...            ...        ...              ...  \n",
       "month 49    2023.0       12.0             0.00  \n",
       "      50    2024.0        1.0             0.00  \n",
       "      51    2024.0        2.0         -4848.00  \n",
       "      52    2024.0        3.0         -2883.61  \n",
       "      53    2024.0        4.0          -319.52  \n",
       "\n",
       "[162 rows x 10 columns]"
      ]
     },
     "execution_count": 10,
     "metadata": {},
     "output_type": "execute_result"
    }
   ],
   "source": [
    "# sella.groupby(['year', 'month']).agg({'amount':'sum', 'balance':'last'})\n",
    "\n",
    "needs = pd.pivot(\n",
    "    data=sella.drop(['account', 'currency', 'balance'], axis=1),\n",
    "    index=['year', 'month'],\n",
    "    columns='category'\n",
    ").fillna(0.0)[('amount','needs')]\n",
    "\n",
    "wants = pd.pivot(\n",
    "    data=sella.drop(['account', 'currency', 'balance'], axis=1),\n",
    "    index=['year', 'month'],\n",
    "    columns='category'\n",
    ").fillna(0.0)[('amount','wants')]\n",
    "\n",
    "savings = pd.pivot(\n",
    "    data=sella.drop(['account', 'currency', 'balance'], axis=1),\n",
    "    index=['year', 'month'],\n",
    "    columns='category'\n",
    ").fillna(0.0)[('amount','savings')]\n",
    "\n",
    "# pd.merge(\n",
    "#     left=sella,\n",
    "#     right=needs.reset_index(),\n",
    "#     on=['year','month'],\n",
    "#     # right_on=[('year', ''), ('month', '')],\n",
    "#     how='left'\n",
    "# )\n",
    "\n",
    "pd.concat([sella, needs.reset_index()], keys=['year', 'month'])"
   ]
  },
  {
   "cell_type": "code",
   "execution_count": 11,
   "metadata": {},
   "outputs": [
    {
     "data": {
      "text/html": [
       "<div>\n",
       "<style scoped>\n",
       "    .dataframe tbody tr th:only-of-type {\n",
       "        vertical-align: middle;\n",
       "    }\n",
       "\n",
       "    .dataframe tbody tr th {\n",
       "        vertical-align: top;\n",
       "    }\n",
       "\n",
       "    .dataframe thead th {\n",
       "        text-align: right;\n",
       "    }\n",
       "</style>\n",
       "<table border=\"1\" class=\"dataframe\">\n",
       "  <thead>\n",
       "    <tr style=\"text-align: right;\">\n",
       "      <th></th>\n",
       "      <th></th>\n",
       "      <th>amount</th>\n",
       "      <th>balance</th>\n",
       "    </tr>\n",
       "    <tr>\n",
       "      <th>year</th>\n",
       "      <th>month</th>\n",
       "      <th></th>\n",
       "      <th></th>\n",
       "    </tr>\n",
       "  </thead>\n",
       "  <tbody>\n",
       "    <tr>\n",
       "      <th rowspan=\"2\" valign=\"top\">2019</th>\n",
       "      <th>11</th>\n",
       "      <td>17606.360000</td>\n",
       "      <td>17606.360000</td>\n",
       "    </tr>\n",
       "    <tr>\n",
       "      <th>12</th>\n",
       "      <td>-11221.330000</td>\n",
       "      <td>6385.030000</td>\n",
       "    </tr>\n",
       "    <tr>\n",
       "      <th rowspan=\"12\" valign=\"top\">2020</th>\n",
       "      <th>1</th>\n",
       "      <td>1786.700000</td>\n",
       "      <td>8171.730000</td>\n",
       "    </tr>\n",
       "    <tr>\n",
       "      <th>2</th>\n",
       "      <td>1595.000000</td>\n",
       "      <td>9766.730000</td>\n",
       "    </tr>\n",
       "    <tr>\n",
       "      <th>3</th>\n",
       "      <td>1584.000000</td>\n",
       "      <td>11350.730000</td>\n",
       "    </tr>\n",
       "    <tr>\n",
       "      <th>4</th>\n",
       "      <td>1582.020000</td>\n",
       "      <td>12932.750000</td>\n",
       "    </tr>\n",
       "    <tr>\n",
       "      <th>5</th>\n",
       "      <td>1578.000000</td>\n",
       "      <td>14510.750000</td>\n",
       "    </tr>\n",
       "    <tr>\n",
       "      <th>6</th>\n",
       "      <td>513.000000</td>\n",
       "      <td>15023.750000</td>\n",
       "    </tr>\n",
       "    <tr>\n",
       "      <th>7</th>\n",
       "      <td>1123.500000</td>\n",
       "      <td>16147.250000</td>\n",
       "    </tr>\n",
       "    <tr>\n",
       "      <th>8</th>\n",
       "      <td>-3788.320000</td>\n",
       "      <td>12358.930000</td>\n",
       "    </tr>\n",
       "    <tr>\n",
       "      <th>9</th>\n",
       "      <td>-1346.570000</td>\n",
       "      <td>11012.360000</td>\n",
       "    </tr>\n",
       "    <tr>\n",
       "      <th>10</th>\n",
       "      <td>3771.070000</td>\n",
       "      <td>14783.430000</td>\n",
       "    </tr>\n",
       "    <tr>\n",
       "      <th>11</th>\n",
       "      <td>614.000000</td>\n",
       "      <td>15397.430000</td>\n",
       "    </tr>\n",
       "    <tr>\n",
       "      <th>12</th>\n",
       "      <td>545.180000</td>\n",
       "      <td>15942.610000</td>\n",
       "    </tr>\n",
       "    <tr>\n",
       "      <th rowspan=\"12\" valign=\"top\">2021</th>\n",
       "      <th>1</th>\n",
       "      <td>-1.700000</td>\n",
       "      <td>15940.910000</td>\n",
       "    </tr>\n",
       "    <tr>\n",
       "      <th>2</th>\n",
       "      <td>2447.450000</td>\n",
       "      <td>18388.360000</td>\n",
       "    </tr>\n",
       "    <tr>\n",
       "      <th>3</th>\n",
       "      <td>1706.000000</td>\n",
       "      <td>20094.360000</td>\n",
       "    </tr>\n",
       "    <tr>\n",
       "      <th>4</th>\n",
       "      <td>494.610000</td>\n",
       "      <td>20588.970000</td>\n",
       "    </tr>\n",
       "    <tr>\n",
       "      <th>5</th>\n",
       "      <td>18.550000</td>\n",
       "      <td>20607.520000</td>\n",
       "    </tr>\n",
       "    <tr>\n",
       "      <th>6</th>\n",
       "      <td>-5777.570000</td>\n",
       "      <td>14829.950000</td>\n",
       "    </tr>\n",
       "    <tr>\n",
       "      <th>7</th>\n",
       "      <td>-440.650000</td>\n",
       "      <td>14389.300000</td>\n",
       "    </tr>\n",
       "    <tr>\n",
       "      <th>8</th>\n",
       "      <td>1196.040000</td>\n",
       "      <td>15585.340000</td>\n",
       "    </tr>\n",
       "    <tr>\n",
       "      <th>9</th>\n",
       "      <td>2748.750000</td>\n",
       "      <td>18334.090000</td>\n",
       "    </tr>\n",
       "    <tr>\n",
       "      <th>10</th>\n",
       "      <td>-585.850000</td>\n",
       "      <td>17748.240000</td>\n",
       "    </tr>\n",
       "    <tr>\n",
       "      <th>11</th>\n",
       "      <td>-1216.370000</td>\n",
       "      <td>16531.870000</td>\n",
       "    </tr>\n",
       "    <tr>\n",
       "      <th>12</th>\n",
       "      <td>-12276.700000</td>\n",
       "      <td>4255.170000</td>\n",
       "    </tr>\n",
       "    <tr>\n",
       "      <th rowspan=\"12\" valign=\"top\">2022</th>\n",
       "      <th>1</th>\n",
       "      <td>1096.340000</td>\n",
       "      <td>5351.510000</td>\n",
       "    </tr>\n",
       "    <tr>\n",
       "      <th>2</th>\n",
       "      <td>1563.580000</td>\n",
       "      <td>6915.090000</td>\n",
       "    </tr>\n",
       "    <tr>\n",
       "      <th>3</th>\n",
       "      <td>-140.780000</td>\n",
       "      <td>6774.310000</td>\n",
       "    </tr>\n",
       "    <tr>\n",
       "      <th>4</th>\n",
       "      <td>1266.030000</td>\n",
       "      <td>8040.340000</td>\n",
       "    </tr>\n",
       "    <tr>\n",
       "      <th>5</th>\n",
       "      <td>1718.180000</td>\n",
       "      <td>9758.520000</td>\n",
       "    </tr>\n",
       "    <tr>\n",
       "      <th>6</th>\n",
       "      <td>19250.030000</td>\n",
       "      <td>29008.550000</td>\n",
       "    </tr>\n",
       "    <tr>\n",
       "      <th>7</th>\n",
       "      <td>5585.950000</td>\n",
       "      <td>34594.500000</td>\n",
       "    </tr>\n",
       "    <tr>\n",
       "      <th>8</th>\n",
       "      <td>3467.440000</td>\n",
       "      <td>38061.940000</td>\n",
       "    </tr>\n",
       "    <tr>\n",
       "      <th>9</th>\n",
       "      <td>3119.020000</td>\n",
       "      <td>41180.960000</td>\n",
       "    </tr>\n",
       "    <tr>\n",
       "      <th>10</th>\n",
       "      <td>1125.250000</td>\n",
       "      <td>42306.210000</td>\n",
       "    </tr>\n",
       "    <tr>\n",
       "      <th>11</th>\n",
       "      <td>1931.090000</td>\n",
       "      <td>44237.300000</td>\n",
       "    </tr>\n",
       "    <tr>\n",
       "      <th>12</th>\n",
       "      <td>-35289.500000</td>\n",
       "      <td>8947.800000</td>\n",
       "    </tr>\n",
       "    <tr>\n",
       "      <th rowspan=\"12\" valign=\"top\">2023</th>\n",
       "      <th>1</th>\n",
       "      <td>1396.730000</td>\n",
       "      <td>10344.530000</td>\n",
       "    </tr>\n",
       "    <tr>\n",
       "      <th>2</th>\n",
       "      <td>2311.850000</td>\n",
       "      <td>12656.380000</td>\n",
       "    </tr>\n",
       "    <tr>\n",
       "      <th>3</th>\n",
       "      <td>450.980000</td>\n",
       "      <td>13107.360000</td>\n",
       "    </tr>\n",
       "    <tr>\n",
       "      <th>4</th>\n",
       "      <td>1070.390000</td>\n",
       "      <td>14177.750000</td>\n",
       "    </tr>\n",
       "    <tr>\n",
       "      <th>5</th>\n",
       "      <td>-6707.020000</td>\n",
       "      <td>7470.730000</td>\n",
       "    </tr>\n",
       "    <tr>\n",
       "      <th>6</th>\n",
       "      <td>1206.270000</td>\n",
       "      <td>8677.000000</td>\n",
       "    </tr>\n",
       "    <tr>\n",
       "      <th>7</th>\n",
       "      <td>997.270000</td>\n",
       "      <td>9674.270000</td>\n",
       "    </tr>\n",
       "    <tr>\n",
       "      <th>8</th>\n",
       "      <td>-1510.700000</td>\n",
       "      <td>8163.570000</td>\n",
       "    </tr>\n",
       "    <tr>\n",
       "      <th>9</th>\n",
       "      <td>-170.230000</td>\n",
       "      <td>7993.340000</td>\n",
       "    </tr>\n",
       "    <tr>\n",
       "      <th>10</th>\n",
       "      <td>-373.960000</td>\n",
       "      <td>7619.380000</td>\n",
       "    </tr>\n",
       "    <tr>\n",
       "      <th>11</th>\n",
       "      <td>-475.410000</td>\n",
       "      <td>7143.970000</td>\n",
       "    </tr>\n",
       "    <tr>\n",
       "      <th>12</th>\n",
       "      <td>-92.499727</td>\n",
       "      <td>7051.470273</td>\n",
       "    </tr>\n",
       "    <tr>\n",
       "      <th rowspan=\"4\" valign=\"top\">2024</th>\n",
       "      <th>1</th>\n",
       "      <td>175.070000</td>\n",
       "      <td>7226.540273</td>\n",
       "    </tr>\n",
       "    <tr>\n",
       "      <th>2</th>\n",
       "      <td>-4619.020000</td>\n",
       "      <td>2607.520273</td>\n",
       "    </tr>\n",
       "    <tr>\n",
       "      <th>3</th>\n",
       "      <td>3012.860000</td>\n",
       "      <td>5620.380273</td>\n",
       "    </tr>\n",
       "    <tr>\n",
       "      <th>4</th>\n",
       "      <td>367.380000</td>\n",
       "      <td>5987.760273</td>\n",
       "    </tr>\n",
       "  </tbody>\n",
       "</table>\n",
       "</div>"
      ],
      "text/plain": [
       "                  amount       balance\n",
       "year month                            \n",
       "2019 11     17606.360000  17606.360000\n",
       "     12    -11221.330000   6385.030000\n",
       "2020 1       1786.700000   8171.730000\n",
       "     2       1595.000000   9766.730000\n",
       "     3       1584.000000  11350.730000\n",
       "     4       1582.020000  12932.750000\n",
       "     5       1578.000000  14510.750000\n",
       "     6        513.000000  15023.750000\n",
       "     7       1123.500000  16147.250000\n",
       "     8      -3788.320000  12358.930000\n",
       "     9      -1346.570000  11012.360000\n",
       "     10      3771.070000  14783.430000\n",
       "     11       614.000000  15397.430000\n",
       "     12       545.180000  15942.610000\n",
       "2021 1         -1.700000  15940.910000\n",
       "     2       2447.450000  18388.360000\n",
       "     3       1706.000000  20094.360000\n",
       "     4        494.610000  20588.970000\n",
       "     5         18.550000  20607.520000\n",
       "     6      -5777.570000  14829.950000\n",
       "     7       -440.650000  14389.300000\n",
       "     8       1196.040000  15585.340000\n",
       "     9       2748.750000  18334.090000\n",
       "     10      -585.850000  17748.240000\n",
       "     11     -1216.370000  16531.870000\n",
       "     12    -12276.700000   4255.170000\n",
       "2022 1       1096.340000   5351.510000\n",
       "     2       1563.580000   6915.090000\n",
       "     3       -140.780000   6774.310000\n",
       "     4       1266.030000   8040.340000\n",
       "     5       1718.180000   9758.520000\n",
       "     6      19250.030000  29008.550000\n",
       "     7       5585.950000  34594.500000\n",
       "     8       3467.440000  38061.940000\n",
       "     9       3119.020000  41180.960000\n",
       "     10      1125.250000  42306.210000\n",
       "     11      1931.090000  44237.300000\n",
       "     12    -35289.500000   8947.800000\n",
       "2023 1       1396.730000  10344.530000\n",
       "     2       2311.850000  12656.380000\n",
       "     3        450.980000  13107.360000\n",
       "     4       1070.390000  14177.750000\n",
       "     5      -6707.020000   7470.730000\n",
       "     6       1206.270000   8677.000000\n",
       "     7        997.270000   9674.270000\n",
       "     8      -1510.700000   8163.570000\n",
       "     9       -170.230000   7993.340000\n",
       "     10      -373.960000   7619.380000\n",
       "     11      -475.410000   7143.970000\n",
       "     12       -92.499727   7051.470273\n",
       "2024 1        175.070000   7226.540273\n",
       "     2      -4619.020000   2607.520273\n",
       "     3       3012.860000   5620.380273\n",
       "     4        367.380000   5987.760273"
      ]
     },
     "execution_count": 11,
     "metadata": {},
     "output_type": "execute_result"
    }
   ],
   "source": [
    "sella.groupby(['year','month']).agg({'amount':'sum', 'balance':'last'})"
   ]
  },
  {
   "cell_type": "code",
   "execution_count": 12,
   "metadata": {},
   "outputs": [
    {
     "name": "stdout",
     "output_type": "stream",
     "text": [
      "<class 'pandas.core.frame.DataFrame'>\n",
      "Index: 108 entries, 0 to 142\n",
      "Data columns (total 7 columns):\n",
      " #   Column    Non-Null Count  Dtype  \n",
      "---  ------    --------------  -----  \n",
      " 0   year      108 non-null    int32  \n",
      " 1   month     108 non-null    int32  \n",
      " 2   account   108 non-null    object \n",
      " 3   category  108 non-null    object \n",
      " 4   currency  108 non-null    object \n",
      " 5   amount    108 non-null    float64\n",
      " 6   balance   108 non-null    float64\n",
      "dtypes: float64(2), int32(2), object(3)\n",
      "memory usage: 5.9+ KB\n"
     ]
    },
    {
     "data": {
      "text/html": [
       "<div>\n",
       "<style scoped>\n",
       "    .dataframe tbody tr th:only-of-type {\n",
       "        vertical-align: middle;\n",
       "    }\n",
       "\n",
       "    .dataframe tbody tr th {\n",
       "        vertical-align: top;\n",
       "    }\n",
       "\n",
       "    .dataframe thead th {\n",
       "        text-align: right;\n",
       "    }\n",
       "</style>\n",
       "<table border=\"1\" class=\"dataframe\">\n",
       "  <thead>\n",
       "    <tr style=\"text-align: right;\">\n",
       "      <th></th>\n",
       "      <th>year</th>\n",
       "      <th>month</th>\n",
       "      <th>account</th>\n",
       "      <th>category</th>\n",
       "      <th>currency</th>\n",
       "      <th>amount</th>\n",
       "      <th>balance</th>\n",
       "    </tr>\n",
       "  </thead>\n",
       "  <tbody>\n",
       "    <tr>\n",
       "      <th>87</th>\n",
       "      <td>2023</td>\n",
       "      <td>1</td>\n",
       "      <td>sella</td>\n",
       "      <td>income</td>\n",
       "      <td>EUR</td>\n",
       "      <td>1978.000000</td>\n",
       "      <td>10925.800000</td>\n",
       "    </tr>\n",
       "    <tr>\n",
       "      <th>88</th>\n",
       "      <td>2023</td>\n",
       "      <td>1</td>\n",
       "      <td>sella</td>\n",
       "      <td>wants</td>\n",
       "      <td>EUR</td>\n",
       "      <td>-581.270000</td>\n",
       "      <td>10344.530000</td>\n",
       "    </tr>\n",
       "    <tr>\n",
       "      <th>89</th>\n",
       "      <td>2023</td>\n",
       "      <td>2</td>\n",
       "      <td>sella</td>\n",
       "      <td>income</td>\n",
       "      <td>EUR</td>\n",
       "      <td>2397.000000</td>\n",
       "      <td>12741.530000</td>\n",
       "    </tr>\n",
       "    <tr>\n",
       "      <th>90</th>\n",
       "      <td>2023</td>\n",
       "      <td>2</td>\n",
       "      <td>sella</td>\n",
       "      <td>wants</td>\n",
       "      <td>EUR</td>\n",
       "      <td>-85.150000</td>\n",
       "      <td>12656.380000</td>\n",
       "    </tr>\n",
       "    <tr>\n",
       "      <th>91</th>\n",
       "      <td>2023</td>\n",
       "      <td>3</td>\n",
       "      <td>sella</td>\n",
       "      <td>income</td>\n",
       "      <td>EUR</td>\n",
       "      <td>2237.000000</td>\n",
       "      <td>14893.380000</td>\n",
       "    </tr>\n",
       "    <tr>\n",
       "      <th>92</th>\n",
       "      <td>2023</td>\n",
       "      <td>3</td>\n",
       "      <td>sella</td>\n",
       "      <td>wants</td>\n",
       "      <td>EUR</td>\n",
       "      <td>-1786.020000</td>\n",
       "      <td>13107.360000</td>\n",
       "    </tr>\n",
       "    <tr>\n",
       "      <th>94</th>\n",
       "      <td>2023</td>\n",
       "      <td>4</td>\n",
       "      <td>sella</td>\n",
       "      <td>income</td>\n",
       "      <td>EUR</td>\n",
       "      <td>2350.000000</td>\n",
       "      <td>15457.360000</td>\n",
       "    </tr>\n",
       "    <tr>\n",
       "      <th>95</th>\n",
       "      <td>2023</td>\n",
       "      <td>4</td>\n",
       "      <td>sella</td>\n",
       "      <td>wants</td>\n",
       "      <td>EUR</td>\n",
       "      <td>-1279.610000</td>\n",
       "      <td>14177.750000</td>\n",
       "    </tr>\n",
       "    <tr>\n",
       "      <th>96</th>\n",
       "      <td>2023</td>\n",
       "      <td>5</td>\n",
       "      <td>sella</td>\n",
       "      <td>income</td>\n",
       "      <td>EUR</td>\n",
       "      <td>2249.000000</td>\n",
       "      <td>16426.750000</td>\n",
       "    </tr>\n",
       "    <tr>\n",
       "      <th>97</th>\n",
       "      <td>2023</td>\n",
       "      <td>5</td>\n",
       "      <td>sella</td>\n",
       "      <td>wants</td>\n",
       "      <td>EUR</td>\n",
       "      <td>-8956.020000</td>\n",
       "      <td>7470.730000</td>\n",
       "    </tr>\n",
       "    <tr>\n",
       "      <th>99</th>\n",
       "      <td>2023</td>\n",
       "      <td>6</td>\n",
       "      <td>sella</td>\n",
       "      <td>income</td>\n",
       "      <td>EUR</td>\n",
       "      <td>3326.980000</td>\n",
       "      <td>10797.710000</td>\n",
       "    </tr>\n",
       "    <tr>\n",
       "      <th>100</th>\n",
       "      <td>2023</td>\n",
       "      <td>6</td>\n",
       "      <td>sella</td>\n",
       "      <td>wants</td>\n",
       "      <td>EUR</td>\n",
       "      <td>-2120.710000</td>\n",
       "      <td>8677.000000</td>\n",
       "    </tr>\n",
       "    <tr>\n",
       "      <th>102</th>\n",
       "      <td>2023</td>\n",
       "      <td>7</td>\n",
       "      <td>sella</td>\n",
       "      <td>income</td>\n",
       "      <td>EUR</td>\n",
       "      <td>3947.080000</td>\n",
       "      <td>12624.080000</td>\n",
       "    </tr>\n",
       "    <tr>\n",
       "      <th>103</th>\n",
       "      <td>2023</td>\n",
       "      <td>7</td>\n",
       "      <td>sella</td>\n",
       "      <td>wants</td>\n",
       "      <td>EUR</td>\n",
       "      <td>-2949.810000</td>\n",
       "      <td>9674.270000</td>\n",
       "    </tr>\n",
       "    <tr>\n",
       "      <th>105</th>\n",
       "      <td>2023</td>\n",
       "      <td>8</td>\n",
       "      <td>sella</td>\n",
       "      <td>income</td>\n",
       "      <td>EUR</td>\n",
       "      <td>1262.880000</td>\n",
       "      <td>10937.150000</td>\n",
       "    </tr>\n",
       "    <tr>\n",
       "      <th>106</th>\n",
       "      <td>2023</td>\n",
       "      <td>8</td>\n",
       "      <td>sella</td>\n",
       "      <td>wants</td>\n",
       "      <td>EUR</td>\n",
       "      <td>-2773.580000</td>\n",
       "      <td>8163.570000</td>\n",
       "    </tr>\n",
       "    <tr>\n",
       "      <th>108</th>\n",
       "      <td>2023</td>\n",
       "      <td>9</td>\n",
       "      <td>sella</td>\n",
       "      <td>income</td>\n",
       "      <td>EUR</td>\n",
       "      <td>1311.710000</td>\n",
       "      <td>9475.280000</td>\n",
       "    </tr>\n",
       "    <tr>\n",
       "      <th>109</th>\n",
       "      <td>2023</td>\n",
       "      <td>9</td>\n",
       "      <td>sella</td>\n",
       "      <td>wants</td>\n",
       "      <td>EUR</td>\n",
       "      <td>-1481.940000</td>\n",
       "      <td>7993.340000</td>\n",
       "    </tr>\n",
       "    <tr>\n",
       "      <th>110</th>\n",
       "      <td>2023</td>\n",
       "      <td>10</td>\n",
       "      <td>sella</td>\n",
       "      <td>income</td>\n",
       "      <td>EUR</td>\n",
       "      <td>1311.710000</td>\n",
       "      <td>9305.050000</td>\n",
       "    </tr>\n",
       "    <tr>\n",
       "      <th>111</th>\n",
       "      <td>2023</td>\n",
       "      <td>10</td>\n",
       "      <td>sella</td>\n",
       "      <td>wants</td>\n",
       "      <td>EUR</td>\n",
       "      <td>-1685.670000</td>\n",
       "      <td>7619.380000</td>\n",
       "    </tr>\n",
       "    <tr>\n",
       "      <th>115</th>\n",
       "      <td>2023</td>\n",
       "      <td>11</td>\n",
       "      <td>sella</td>\n",
       "      <td>income</td>\n",
       "      <td>EUR</td>\n",
       "      <td>1311.710000</td>\n",
       "      <td>8931.090000</td>\n",
       "    </tr>\n",
       "    <tr>\n",
       "      <th>116</th>\n",
       "      <td>2023</td>\n",
       "      <td>11</td>\n",
       "      <td>sella</td>\n",
       "      <td>wants</td>\n",
       "      <td>EUR</td>\n",
       "      <td>-1787.120000</td>\n",
       "      <td>7143.970000</td>\n",
       "    </tr>\n",
       "    <tr>\n",
       "      <th>118</th>\n",
       "      <td>2023</td>\n",
       "      <td>12</td>\n",
       "      <td>sella</td>\n",
       "      <td>income</td>\n",
       "      <td>EUR</td>\n",
       "      <td>1717.150000</td>\n",
       "      <td>8861.120000</td>\n",
       "    </tr>\n",
       "    <tr>\n",
       "      <th>119</th>\n",
       "      <td>2023</td>\n",
       "      <td>12</td>\n",
       "      <td>sella</td>\n",
       "      <td>wants</td>\n",
       "      <td>EUR</td>\n",
       "      <td>-1809.649727</td>\n",
       "      <td>7051.470273</td>\n",
       "    </tr>\n",
       "  </tbody>\n",
       "</table>\n",
       "</div>"
      ],
      "text/plain": [
       "     year  month account category currency       amount       balance\n",
       "87   2023      1   sella   income      EUR  1978.000000  10925.800000\n",
       "88   2023      1   sella    wants      EUR  -581.270000  10344.530000\n",
       "89   2023      2   sella   income      EUR  2397.000000  12741.530000\n",
       "90   2023      2   sella    wants      EUR   -85.150000  12656.380000\n",
       "91   2023      3   sella   income      EUR  2237.000000  14893.380000\n",
       "92   2023      3   sella    wants      EUR -1786.020000  13107.360000\n",
       "94   2023      4   sella   income      EUR  2350.000000  15457.360000\n",
       "95   2023      4   sella    wants      EUR -1279.610000  14177.750000\n",
       "96   2023      5   sella   income      EUR  2249.000000  16426.750000\n",
       "97   2023      5   sella    wants      EUR -8956.020000   7470.730000\n",
       "99   2023      6   sella   income      EUR  3326.980000  10797.710000\n",
       "100  2023      6   sella    wants      EUR -2120.710000   8677.000000\n",
       "102  2023      7   sella   income      EUR  3947.080000  12624.080000\n",
       "103  2023      7   sella    wants      EUR -2949.810000   9674.270000\n",
       "105  2023      8   sella   income      EUR  1262.880000  10937.150000\n",
       "106  2023      8   sella    wants      EUR -2773.580000   8163.570000\n",
       "108  2023      9   sella   income      EUR  1311.710000   9475.280000\n",
       "109  2023      9   sella    wants      EUR -1481.940000   7993.340000\n",
       "110  2023     10   sella   income      EUR  1311.710000   9305.050000\n",
       "111  2023     10   sella    wants      EUR -1685.670000   7619.380000\n",
       "115  2023     11   sella   income      EUR  1311.710000   8931.090000\n",
       "116  2023     11   sella    wants      EUR -1787.120000   7143.970000\n",
       "118  2023     12   sella   income      EUR  1717.150000   8861.120000\n",
       "119  2023     12   sella    wants      EUR -1809.649727   7051.470273"
      ]
     },
     "execution_count": 12,
     "metadata": {},
     "output_type": "execute_result"
    }
   ],
   "source": [
    "sella.info()\n",
    "sella[sella.year == 2023]"
   ]
  },
  {
   "cell_type": "code",
   "execution_count": 13,
   "metadata": {},
   "outputs": [
    {
     "data": {
      "application/vnd.plotly.v1+json": {
       "config": {
        "plotlyServerURL": "https://plot.ly"
       },
       "data": [
        {
         "alignmentgroup": "True",
         "hovertemplate": "month=%{x}<br>balance=%{y}<extra></extra>",
         "legendgroup": "",
         "marker": {
          "color": "#636efa",
          "pattern": {
           "shape": ""
          }
         },
         "name": "",
         "offsetgroup": "",
         "orientation": "v",
         "showlegend": false,
         "textposition": "auto",
         "type": "bar",
         "x": [
          1,
          2,
          3,
          4
         ],
         "xaxis": "x",
         "y": [
          7226.54027269704,
          2607.52027269704,
          5620.380272697038,
          5987.760272697038
         ],
         "yaxis": "y"
        }
       ],
       "layout": {
        "barmode": "relative",
        "legend": {
         "tracegroupgap": 0
        },
        "margin": {
         "t": 60
        },
        "template": {
         "data": {
          "bar": [
           {
            "error_x": {
             "color": "#2a3f5f"
            },
            "error_y": {
             "color": "#2a3f5f"
            },
            "marker": {
             "line": {
              "color": "#E5ECF6",
              "width": 0.5
             },
             "pattern": {
              "fillmode": "overlay",
              "size": 10,
              "solidity": 0.2
             }
            },
            "type": "bar"
           }
          ],
          "barpolar": [
           {
            "marker": {
             "line": {
              "color": "#E5ECF6",
              "width": 0.5
             },
             "pattern": {
              "fillmode": "overlay",
              "size": 10,
              "solidity": 0.2
             }
            },
            "type": "barpolar"
           }
          ],
          "carpet": [
           {
            "aaxis": {
             "endlinecolor": "#2a3f5f",
             "gridcolor": "white",
             "linecolor": "white",
             "minorgridcolor": "white",
             "startlinecolor": "#2a3f5f"
            },
            "baxis": {
             "endlinecolor": "#2a3f5f",
             "gridcolor": "white",
             "linecolor": "white",
             "minorgridcolor": "white",
             "startlinecolor": "#2a3f5f"
            },
            "type": "carpet"
           }
          ],
          "choropleth": [
           {
            "colorbar": {
             "outlinewidth": 0,
             "ticks": ""
            },
            "type": "choropleth"
           }
          ],
          "contour": [
           {
            "colorbar": {
             "outlinewidth": 0,
             "ticks": ""
            },
            "colorscale": [
             [
              0,
              "#0d0887"
             ],
             [
              0.1111111111111111,
              "#46039f"
             ],
             [
              0.2222222222222222,
              "#7201a8"
             ],
             [
              0.3333333333333333,
              "#9c179e"
             ],
             [
              0.4444444444444444,
              "#bd3786"
             ],
             [
              0.5555555555555556,
              "#d8576b"
             ],
             [
              0.6666666666666666,
              "#ed7953"
             ],
             [
              0.7777777777777778,
              "#fb9f3a"
             ],
             [
              0.8888888888888888,
              "#fdca26"
             ],
             [
              1,
              "#f0f921"
             ]
            ],
            "type": "contour"
           }
          ],
          "contourcarpet": [
           {
            "colorbar": {
             "outlinewidth": 0,
             "ticks": ""
            },
            "type": "contourcarpet"
           }
          ],
          "heatmap": [
           {
            "colorbar": {
             "outlinewidth": 0,
             "ticks": ""
            },
            "colorscale": [
             [
              0,
              "#0d0887"
             ],
             [
              0.1111111111111111,
              "#46039f"
             ],
             [
              0.2222222222222222,
              "#7201a8"
             ],
             [
              0.3333333333333333,
              "#9c179e"
             ],
             [
              0.4444444444444444,
              "#bd3786"
             ],
             [
              0.5555555555555556,
              "#d8576b"
             ],
             [
              0.6666666666666666,
              "#ed7953"
             ],
             [
              0.7777777777777778,
              "#fb9f3a"
             ],
             [
              0.8888888888888888,
              "#fdca26"
             ],
             [
              1,
              "#f0f921"
             ]
            ],
            "type": "heatmap"
           }
          ],
          "heatmapgl": [
           {
            "colorbar": {
             "outlinewidth": 0,
             "ticks": ""
            },
            "colorscale": [
             [
              0,
              "#0d0887"
             ],
             [
              0.1111111111111111,
              "#46039f"
             ],
             [
              0.2222222222222222,
              "#7201a8"
             ],
             [
              0.3333333333333333,
              "#9c179e"
             ],
             [
              0.4444444444444444,
              "#bd3786"
             ],
             [
              0.5555555555555556,
              "#d8576b"
             ],
             [
              0.6666666666666666,
              "#ed7953"
             ],
             [
              0.7777777777777778,
              "#fb9f3a"
             ],
             [
              0.8888888888888888,
              "#fdca26"
             ],
             [
              1,
              "#f0f921"
             ]
            ],
            "type": "heatmapgl"
           }
          ],
          "histogram": [
           {
            "marker": {
             "pattern": {
              "fillmode": "overlay",
              "size": 10,
              "solidity": 0.2
             }
            },
            "type": "histogram"
           }
          ],
          "histogram2d": [
           {
            "colorbar": {
             "outlinewidth": 0,
             "ticks": ""
            },
            "colorscale": [
             [
              0,
              "#0d0887"
             ],
             [
              0.1111111111111111,
              "#46039f"
             ],
             [
              0.2222222222222222,
              "#7201a8"
             ],
             [
              0.3333333333333333,
              "#9c179e"
             ],
             [
              0.4444444444444444,
              "#bd3786"
             ],
             [
              0.5555555555555556,
              "#d8576b"
             ],
             [
              0.6666666666666666,
              "#ed7953"
             ],
             [
              0.7777777777777778,
              "#fb9f3a"
             ],
             [
              0.8888888888888888,
              "#fdca26"
             ],
             [
              1,
              "#f0f921"
             ]
            ],
            "type": "histogram2d"
           }
          ],
          "histogram2dcontour": [
           {
            "colorbar": {
             "outlinewidth": 0,
             "ticks": ""
            },
            "colorscale": [
             [
              0,
              "#0d0887"
             ],
             [
              0.1111111111111111,
              "#46039f"
             ],
             [
              0.2222222222222222,
              "#7201a8"
             ],
             [
              0.3333333333333333,
              "#9c179e"
             ],
             [
              0.4444444444444444,
              "#bd3786"
             ],
             [
              0.5555555555555556,
              "#d8576b"
             ],
             [
              0.6666666666666666,
              "#ed7953"
             ],
             [
              0.7777777777777778,
              "#fb9f3a"
             ],
             [
              0.8888888888888888,
              "#fdca26"
             ],
             [
              1,
              "#f0f921"
             ]
            ],
            "type": "histogram2dcontour"
           }
          ],
          "mesh3d": [
           {
            "colorbar": {
             "outlinewidth": 0,
             "ticks": ""
            },
            "type": "mesh3d"
           }
          ],
          "parcoords": [
           {
            "line": {
             "colorbar": {
              "outlinewidth": 0,
              "ticks": ""
             }
            },
            "type": "parcoords"
           }
          ],
          "pie": [
           {
            "automargin": true,
            "type": "pie"
           }
          ],
          "scatter": [
           {
            "fillpattern": {
             "fillmode": "overlay",
             "size": 10,
             "solidity": 0.2
            },
            "type": "scatter"
           }
          ],
          "scatter3d": [
           {
            "line": {
             "colorbar": {
              "outlinewidth": 0,
              "ticks": ""
             }
            },
            "marker": {
             "colorbar": {
              "outlinewidth": 0,
              "ticks": ""
             }
            },
            "type": "scatter3d"
           }
          ],
          "scattercarpet": [
           {
            "marker": {
             "colorbar": {
              "outlinewidth": 0,
              "ticks": ""
             }
            },
            "type": "scattercarpet"
           }
          ],
          "scattergeo": [
           {
            "marker": {
             "colorbar": {
              "outlinewidth": 0,
              "ticks": ""
             }
            },
            "type": "scattergeo"
           }
          ],
          "scattergl": [
           {
            "marker": {
             "colorbar": {
              "outlinewidth": 0,
              "ticks": ""
             }
            },
            "type": "scattergl"
           }
          ],
          "scattermapbox": [
           {
            "marker": {
             "colorbar": {
              "outlinewidth": 0,
              "ticks": ""
             }
            },
            "type": "scattermapbox"
           }
          ],
          "scatterpolar": [
           {
            "marker": {
             "colorbar": {
              "outlinewidth": 0,
              "ticks": ""
             }
            },
            "type": "scatterpolar"
           }
          ],
          "scatterpolargl": [
           {
            "marker": {
             "colorbar": {
              "outlinewidth": 0,
              "ticks": ""
             }
            },
            "type": "scatterpolargl"
           }
          ],
          "scatterternary": [
           {
            "marker": {
             "colorbar": {
              "outlinewidth": 0,
              "ticks": ""
             }
            },
            "type": "scatterternary"
           }
          ],
          "surface": [
           {
            "colorbar": {
             "outlinewidth": 0,
             "ticks": ""
            },
            "colorscale": [
             [
              0,
              "#0d0887"
             ],
             [
              0.1111111111111111,
              "#46039f"
             ],
             [
              0.2222222222222222,
              "#7201a8"
             ],
             [
              0.3333333333333333,
              "#9c179e"
             ],
             [
              0.4444444444444444,
              "#bd3786"
             ],
             [
              0.5555555555555556,
              "#d8576b"
             ],
             [
              0.6666666666666666,
              "#ed7953"
             ],
             [
              0.7777777777777778,
              "#fb9f3a"
             ],
             [
              0.8888888888888888,
              "#fdca26"
             ],
             [
              1,
              "#f0f921"
             ]
            ],
            "type": "surface"
           }
          ],
          "table": [
           {
            "cells": {
             "fill": {
              "color": "#EBF0F8"
             },
             "line": {
              "color": "white"
             }
            },
            "header": {
             "fill": {
              "color": "#C8D4E3"
             },
             "line": {
              "color": "white"
             }
            },
            "type": "table"
           }
          ]
         },
         "layout": {
          "annotationdefaults": {
           "arrowcolor": "#2a3f5f",
           "arrowhead": 0,
           "arrowwidth": 1
          },
          "autotypenumbers": "strict",
          "coloraxis": {
           "colorbar": {
            "outlinewidth": 0,
            "ticks": ""
           }
          },
          "colorscale": {
           "diverging": [
            [
             0,
             "#8e0152"
            ],
            [
             0.1,
             "#c51b7d"
            ],
            [
             0.2,
             "#de77ae"
            ],
            [
             0.3,
             "#f1b6da"
            ],
            [
             0.4,
             "#fde0ef"
            ],
            [
             0.5,
             "#f7f7f7"
            ],
            [
             0.6,
             "#e6f5d0"
            ],
            [
             0.7,
             "#b8e186"
            ],
            [
             0.8,
             "#7fbc41"
            ],
            [
             0.9,
             "#4d9221"
            ],
            [
             1,
             "#276419"
            ]
           ],
           "sequential": [
            [
             0,
             "#0d0887"
            ],
            [
             0.1111111111111111,
             "#46039f"
            ],
            [
             0.2222222222222222,
             "#7201a8"
            ],
            [
             0.3333333333333333,
             "#9c179e"
            ],
            [
             0.4444444444444444,
             "#bd3786"
            ],
            [
             0.5555555555555556,
             "#d8576b"
            ],
            [
             0.6666666666666666,
             "#ed7953"
            ],
            [
             0.7777777777777778,
             "#fb9f3a"
            ],
            [
             0.8888888888888888,
             "#fdca26"
            ],
            [
             1,
             "#f0f921"
            ]
           ],
           "sequentialminus": [
            [
             0,
             "#0d0887"
            ],
            [
             0.1111111111111111,
             "#46039f"
            ],
            [
             0.2222222222222222,
             "#7201a8"
            ],
            [
             0.3333333333333333,
             "#9c179e"
            ],
            [
             0.4444444444444444,
             "#bd3786"
            ],
            [
             0.5555555555555556,
             "#d8576b"
            ],
            [
             0.6666666666666666,
             "#ed7953"
            ],
            [
             0.7777777777777778,
             "#fb9f3a"
            ],
            [
             0.8888888888888888,
             "#fdca26"
            ],
            [
             1,
             "#f0f921"
            ]
           ]
          },
          "colorway": [
           "#636efa",
           "#EF553B",
           "#00cc96",
           "#ab63fa",
           "#FFA15A",
           "#19d3f3",
           "#FF6692",
           "#B6E880",
           "#FF97FF",
           "#FECB52"
          ],
          "font": {
           "color": "#2a3f5f"
          },
          "geo": {
           "bgcolor": "white",
           "lakecolor": "white",
           "landcolor": "#E5ECF6",
           "showlakes": true,
           "showland": true,
           "subunitcolor": "white"
          },
          "hoverlabel": {
           "align": "left"
          },
          "hovermode": "closest",
          "mapbox": {
           "style": "light"
          },
          "paper_bgcolor": "white",
          "plot_bgcolor": "#E5ECF6",
          "polar": {
           "angularaxis": {
            "gridcolor": "white",
            "linecolor": "white",
            "ticks": ""
           },
           "bgcolor": "#E5ECF6",
           "radialaxis": {
            "gridcolor": "white",
            "linecolor": "white",
            "ticks": ""
           }
          },
          "scene": {
           "xaxis": {
            "backgroundcolor": "#E5ECF6",
            "gridcolor": "white",
            "gridwidth": 2,
            "linecolor": "white",
            "showbackground": true,
            "ticks": "",
            "zerolinecolor": "white"
           },
           "yaxis": {
            "backgroundcolor": "#E5ECF6",
            "gridcolor": "white",
            "gridwidth": 2,
            "linecolor": "white",
            "showbackground": true,
            "ticks": "",
            "zerolinecolor": "white"
           },
           "zaxis": {
            "backgroundcolor": "#E5ECF6",
            "gridcolor": "white",
            "gridwidth": 2,
            "linecolor": "white",
            "showbackground": true,
            "ticks": "",
            "zerolinecolor": "white"
           }
          },
          "shapedefaults": {
           "line": {
            "color": "#2a3f5f"
           }
          },
          "ternary": {
           "aaxis": {
            "gridcolor": "white",
            "linecolor": "white",
            "ticks": ""
           },
           "baxis": {
            "gridcolor": "white",
            "linecolor": "white",
            "ticks": ""
           },
           "bgcolor": "#E5ECF6",
           "caxis": {
            "gridcolor": "white",
            "linecolor": "white",
            "ticks": ""
           }
          },
          "title": {
           "x": 0.05
          },
          "xaxis": {
           "automargin": true,
           "gridcolor": "white",
           "linecolor": "white",
           "ticks": "",
           "title": {
            "standoff": 15
           },
           "zerolinecolor": "white",
           "zerolinewidth": 2
          },
          "yaxis": {
           "automargin": true,
           "gridcolor": "white",
           "linecolor": "white",
           "ticks": "",
           "title": {
            "standoff": 15
           },
           "zerolinecolor": "white",
           "zerolinewidth": 2
          }
         }
        },
        "xaxis": {
         "anchor": "y",
         "domain": [
          0,
          1
         ],
         "title": {
          "text": "month"
         }
        },
        "yaxis": {
         "anchor": "x",
         "domain": [
          0,
          1
         ],
         "title": {
          "text": "balance"
         }
        }
       }
      }
     },
     "metadata": {},
     "output_type": "display_data"
    }
   ],
   "source": [
    "months = ['Jan', 'Feb', 'Mar', 'Apr', 'May', 'Jun', 'Jul', 'Aug', 'Sep', 'Oct', 'Nov', 'Dec']\n",
    "year = 2024\n",
    "tmp = sella.groupby(['year','month']).agg({'amount':'sum', 'balance':'last'}).reset_index()\n",
    "\n",
    "fig = px.bar(\n",
    "    data_frame=tmp[tmp.year == year],\n",
    "    x='month',\n",
    "    y='balance'\n",
    ")\n",
    "\n",
    "fig.show()"
   ]
  },
  {
   "cell_type": "code",
   "execution_count": null,
   "metadata": {},
   "outputs": [],
   "source": []
  }
 ],
 "metadata": {
  "kernelspec": {
   "display_name": ".venv",
   "language": "python",
   "name": "python3"
  },
  "language_info": {
   "codemirror_mode": {
    "name": "ipython",
    "version": 3
   },
   "file_extension": ".py",
   "mimetype": "text/x-python",
   "name": "python",
   "nbconvert_exporter": "python",
   "pygments_lexer": "ipython3",
   "version": "3.11.5"
  }
 },
 "nbformat": 4,
 "nbformat_minor": 2
}
