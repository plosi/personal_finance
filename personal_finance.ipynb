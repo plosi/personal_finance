{
 "cells": [
  {
   "cell_type": "code",
   "execution_count": 31,
   "metadata": {
    "id": "Rsgb_68KUo31"
   },
   "outputs": [],
   "source": [
    "import pandas as pd\n",
    "import numpy as np\n",
    "import plotly.express as px\n",
    "import plotly.graph_objects as go\n",
    "import seaborn as sns\n",
    "import matplotlib.pyplot as plt\n",
    "import matplotlib.patches as mpatches\n",
    "\n",
    "import warnings\n",
    "warnings.filterwarnings('ignore')"
   ]
  },
  {
   "cell_type": "code",
   "execution_count": 3,
   "metadata": {
    "colab": {
     "base_uri": "https://localhost:8080/",
     "height": 72
    },
    "id": "1AnCGQB9v2Gl",
    "outputId": "d953bee6-6e5a-4412-f1d2-597a484cee3c"
   },
   "outputs": [
    {
     "data": {
      "text/html": [
       "<div>\n",
       "<style scoped>\n",
       "    .dataframe tbody tr th:only-of-type {\n",
       "        vertical-align: middle;\n",
       "    }\n",
       "\n",
       "    .dataframe tbody tr th {\n",
       "        vertical-align: top;\n",
       "    }\n",
       "\n",
       "    .dataframe thead th {\n",
       "        text-align: right;\n",
       "    }\n",
       "</style>\n",
       "<table border=\"1\" class=\"dataframe\">\n",
       "  <thead>\n",
       "    <tr style=\"text-align: right;\">\n",
       "      <th></th>\n",
       "      <th>date</th>\n",
       "      <th>year</th>\n",
       "      <th>month</th>\n",
       "      <th>account</th>\n",
       "      <th>category</th>\n",
       "      <th>description</th>\n",
       "      <th>currency</th>\n",
       "      <th>in</th>\n",
       "      <th>out</th>\n",
       "    </tr>\n",
       "  </thead>\n",
       "  <tbody>\n",
       "    <tr>\n",
       "      <th>238</th>\n",
       "      <td>2024-06-01</td>\n",
       "      <td>2024</td>\n",
       "      <td>6</td>\n",
       "      <td>revolut_EUR</td>\n",
       "      <td>transfer</td>\n",
       "      <td>from sella - transfer</td>\n",
       "      <td>EUR</td>\n",
       "      <td>500.0</td>\n",
       "      <td>0.00</td>\n",
       "    </tr>\n",
       "    <tr>\n",
       "      <th>92</th>\n",
       "      <td>2024-04-29</td>\n",
       "      <td>2024</td>\n",
       "      <td>4</td>\n",
       "      <td>sella</td>\n",
       "      <td>bills</td>\n",
       "      <td>gas bill</td>\n",
       "      <td>EUR</td>\n",
       "      <td>0.0</td>\n",
       "      <td>200.00</td>\n",
       "    </tr>\n",
       "    <tr>\n",
       "      <th>305</th>\n",
       "      <td>2024-07-05</td>\n",
       "      <td>2024</td>\n",
       "      <td>7</td>\n",
       "      <td>revolut_EUR</td>\n",
       "      <td>needs</td>\n",
       "      <td>iliad bill</td>\n",
       "      <td>EUR</td>\n",
       "      <td>0.0</td>\n",
       "      <td>20.00</td>\n",
       "    </tr>\n",
       "    <tr>\n",
       "      <th>321</th>\n",
       "      <td>2024-07-13</td>\n",
       "      <td>2024</td>\n",
       "      <td>7</td>\n",
       "      <td>sella</td>\n",
       "      <td>wants</td>\n",
       "      <td>gift</td>\n",
       "      <td>EUR</td>\n",
       "      <td>0.0</td>\n",
       "      <td>14.00</td>\n",
       "    </tr>\n",
       "    <tr>\n",
       "      <th>375</th>\n",
       "      <td>2024-08-09</td>\n",
       "      <td>2024</td>\n",
       "      <td>8</td>\n",
       "      <td>revolut_EUR</td>\n",
       "      <td>wants</td>\n",
       "      <td>tennis</td>\n",
       "      <td>EUR</td>\n",
       "      <td>0.0</td>\n",
       "      <td>16.50</td>\n",
       "    </tr>\n",
       "    <tr>\n",
       "      <th>247</th>\n",
       "      <td>2024-06-01</td>\n",
       "      <td>2024</td>\n",
       "      <td>6</td>\n",
       "      <td>revolut_EUR</td>\n",
       "      <td>wants</td>\n",
       "      <td>blender and chromecast</td>\n",
       "      <td>EUR</td>\n",
       "      <td>0.0</td>\n",
       "      <td>121.97</td>\n",
       "    </tr>\n",
       "    <tr>\n",
       "      <th>135</th>\n",
       "      <td>2021-12-31</td>\n",
       "      <td>2021</td>\n",
       "      <td>12</td>\n",
       "      <td>sella</td>\n",
       "      <td>wants</td>\n",
       "      <td>balance</td>\n",
       "      <td>EUR</td>\n",
       "      <td>0.0</td>\n",
       "      <td>1462.90</td>\n",
       "    </tr>\n",
       "    <tr>\n",
       "      <th>104</th>\n",
       "      <td>2024-05-22</td>\n",
       "      <td>2024</td>\n",
       "      <td>5</td>\n",
       "      <td>revolut_EUR</td>\n",
       "      <td>needs</td>\n",
       "      <td>groceries</td>\n",
       "      <td>EUR</td>\n",
       "      <td>0.0</td>\n",
       "      <td>7.35</td>\n",
       "    </tr>\n",
       "    <tr>\n",
       "      <th>340</th>\n",
       "      <td>2024-07-24</td>\n",
       "      <td>2024</td>\n",
       "      <td>7</td>\n",
       "      <td>sella</td>\n",
       "      <td>wants</td>\n",
       "      <td>coffee</td>\n",
       "      <td>EUR</td>\n",
       "      <td>0.0</td>\n",
       "      <td>4.20</td>\n",
       "    </tr>\n",
       "    <tr>\n",
       "      <th>359</th>\n",
       "      <td>2024-08-03</td>\n",
       "      <td>2024</td>\n",
       "      <td>8</td>\n",
       "      <td>sella</td>\n",
       "      <td>needs</td>\n",
       "      <td>dentist</td>\n",
       "      <td>EUR</td>\n",
       "      <td>0.0</td>\n",
       "      <td>100.00</td>\n",
       "    </tr>\n",
       "  </tbody>\n",
       "</table>\n",
       "</div>"
      ],
      "text/plain": [
       "          date  year  month      account  category             description  \\\n",
       "238 2024-06-01  2024      6  revolut_EUR  transfer   from sella - transfer   \n",
       "92  2024-04-29  2024      4        sella     bills                gas bill   \n",
       "305 2024-07-05  2024      7  revolut_EUR     needs              iliad bill   \n",
       "321 2024-07-13  2024      7        sella     wants                    gift   \n",
       "375 2024-08-09  2024      8  revolut_EUR     wants                  tennis   \n",
       "247 2024-06-01  2024      6  revolut_EUR     wants  blender and chromecast   \n",
       "135 2021-12-31  2021     12        sella     wants                 balance   \n",
       "104 2024-05-22  2024      5  revolut_EUR     needs               groceries   \n",
       "340 2024-07-24  2024      7        sella     wants                  coffee   \n",
       "359 2024-08-03  2024      8        sella     needs                 dentist   \n",
       "\n",
       "    currency     in      out  \n",
       "238      EUR  500.0     0.00  \n",
       "92       EUR    0.0   200.00  \n",
       "305      EUR    0.0    20.00  \n",
       "321      EUR    0.0    14.00  \n",
       "375      EUR    0.0    16.50  \n",
       "247      EUR    0.0   121.97  \n",
       "135      EUR    0.0  1462.90  \n",
       "104      EUR    0.0     7.35  \n",
       "340      EUR    0.0     4.20  \n",
       "359      EUR    0.0   100.00  "
      ]
     },
     "execution_count": 3,
     "metadata": {},
     "output_type": "execute_result"
    }
   ],
   "source": [
    "df = pd.read_csv('data.csv')\n",
    "df['date'] = pd.to_datetime(df.date, dayfirst=True)\n",
    "df.sample(10)"
   ]
  },
  {
   "cell_type": "code",
   "execution_count": 4,
   "metadata": {
    "id": "sgM85koMW0yb"
   },
   "outputs": [
    {
     "name": "stdout",
     "output_type": "stream",
     "text": [
      "<class 'pandas.core.frame.DataFrame'>\n",
      "RangeIndex: 404 entries, 0 to 403\n",
      "Data columns (total 9 columns):\n",
      " #   Column       Non-Null Count  Dtype         \n",
      "---  ------       --------------  -----         \n",
      " 0   date         404 non-null    datetime64[ns]\n",
      " 1   year         404 non-null    int64         \n",
      " 2   month        404 non-null    int64         \n",
      " 3   account      404 non-null    object        \n",
      " 4   category     404 non-null    object        \n",
      " 5   description  404 non-null    object        \n",
      " 6   currency     404 non-null    object        \n",
      " 7   in           404 non-null    float64       \n",
      " 8   out          404 non-null    float64       \n",
      "dtypes: datetime64[ns](1), float64(2), int64(2), object(4)\n",
      "memory usage: 28.5+ KB\n"
     ]
    }
   ],
   "source": [
    "df.info()"
   ]
  },
  {
   "cell_type": "code",
   "execution_count": 5,
   "metadata": {},
   "outputs": [
    {
     "data": {
      "text/plain": [
       "81128.2831"
      ]
     },
     "execution_count": 5,
     "metadata": {},
     "output_type": "execute_result"
    }
   ],
   "source": [
    "def get_total_wealth(df):\n",
    "    wealth = []\n",
    "    for account in df.account.unique():\n",
    "        account_df = df[df.account == account]\n",
    "        account_df = account_df.sort_values(['date'])\n",
    "        account_df['in_out'] = account_df['in'] - df['out']\n",
    "        account_df['balance'] = round(account_df.in_out.cumsum(),2)\n",
    "\n",
    "        wealth.append((account_df.currency.iloc[-1], account_df.balance.iloc[-1]))\n",
    "    \n",
    "    total_eur = sum([item[1] for item in wealth if item[0]=='EUR'])\n",
    "    total_gbp_to_eur = sum(item[1] for item in wealth if item[0]=='GBP') * 1.19 #CurrencyRates().get_rate('GBP', 'EUR')\n",
    "\n",
    "    return(total_eur + total_gbp_to_eur)\n",
    "\n",
    "get_total_wealth(df)"
   ]
  },
  {
   "cell_type": "code",
   "execution_count": 6,
   "metadata": {},
   "outputs": [
    {
     "data": {
      "text/plain": [
       "[('EUR', 13565.94, 'sella'),\n",
       " ('EUR', 1936.87, 'generali'),\n",
       " ('EUR', 65125.7, 'generali_SAV'),\n",
       " ('GBP', 418.49, 'revolut_GBP'),\n",
       " ('EUR', 1.77, 'revolut_EUR')]"
      ]
     },
     "execution_count": 6,
     "metadata": {},
     "output_type": "execute_result"
    }
   ],
   "source": [
    "def get_account_balance(df):\n",
    "    balance = []\n",
    "    for account in df.account.unique():\n",
    "        account_df = df[df.account == account]\n",
    "        account_df = account_df.sort_values(['date'])\n",
    "        account_df['in_out'] = account_df['in'] - account_df['out']\n",
    "        account_df['balance'] = round(account_df.in_out.cumsum(),2)\n",
    "\n",
    "        balance.append((account_df.currency.iloc[-1], account_df.balance.iloc[-1], account))\n",
    "    # print(balance)\n",
    "    return balance\n",
    "\n",
    "get_account_balance(df)"
   ]
  },
  {
   "cell_type": "code",
   "execution_count": 7,
   "metadata": {},
   "outputs": [
    {
     "data": {
      "text/html": [
       "<div>\n",
       "<style scoped>\n",
       "    .dataframe tbody tr th:only-of-type {\n",
       "        vertical-align: middle;\n",
       "    }\n",
       "\n",
       "    .dataframe tbody tr th {\n",
       "        vertical-align: top;\n",
       "    }\n",
       "\n",
       "    .dataframe thead th {\n",
       "        text-align: right;\n",
       "    }\n",
       "</style>\n",
       "<table border=\"1\" class=\"dataframe\">\n",
       "  <thead>\n",
       "    <tr style=\"text-align: right;\">\n",
       "      <th></th>\n",
       "      <th>year</th>\n",
       "      <th>month</th>\n",
       "      <th>account</th>\n",
       "      <th>currency</th>\n",
       "      <th>in</th>\n",
       "      <th>out</th>\n",
       "      <th>in_out</th>\n",
       "      <th>balance</th>\n",
       "    </tr>\n",
       "  </thead>\n",
       "  <tbody>\n",
       "    <tr>\n",
       "      <th>0</th>\n",
       "      <td>2019</td>\n",
       "      <td>11</td>\n",
       "      <td>sella</td>\n",
       "      <td>EUR</td>\n",
       "      <td>17606.36</td>\n",
       "      <td>0.00</td>\n",
       "      <td>17606.36</td>\n",
       "      <td>17606.36</td>\n",
       "    </tr>\n",
       "    <tr>\n",
       "      <th>1</th>\n",
       "      <td>2019</td>\n",
       "      <td>12</td>\n",
       "      <td>sella</td>\n",
       "      <td>EUR</td>\n",
       "      <td>921.00</td>\n",
       "      <td>12142.33</td>\n",
       "      <td>-11221.33</td>\n",
       "      <td>6385.03</td>\n",
       "    </tr>\n",
       "    <tr>\n",
       "      <th>2</th>\n",
       "      <td>2020</td>\n",
       "      <td>1</td>\n",
       "      <td>sella</td>\n",
       "      <td>EUR</td>\n",
       "      <td>1918.00</td>\n",
       "      <td>131.30</td>\n",
       "      <td>1786.70</td>\n",
       "      <td>8171.73</td>\n",
       "    </tr>\n",
       "    <tr>\n",
       "      <th>3</th>\n",
       "      <td>2020</td>\n",
       "      <td>2</td>\n",
       "      <td>sella</td>\n",
       "      <td>EUR</td>\n",
       "      <td>1595.00</td>\n",
       "      <td>0.00</td>\n",
       "      <td>1595.00</td>\n",
       "      <td>9766.73</td>\n",
       "    </tr>\n",
       "    <tr>\n",
       "      <th>4</th>\n",
       "      <td>2020</td>\n",
       "      <td>3</td>\n",
       "      <td>sella</td>\n",
       "      <td>EUR</td>\n",
       "      <td>1584.00</td>\n",
       "      <td>0.00</td>\n",
       "      <td>1584.00</td>\n",
       "      <td>11350.73</td>\n",
       "    </tr>\n",
       "    <tr>\n",
       "      <th>5</th>\n",
       "      <td>2020</td>\n",
       "      <td>4</td>\n",
       "      <td>sella</td>\n",
       "      <td>EUR</td>\n",
       "      <td>1583.00</td>\n",
       "      <td>0.98</td>\n",
       "      <td>1582.02</td>\n",
       "      <td>12932.75</td>\n",
       "    </tr>\n",
       "    <tr>\n",
       "      <th>6</th>\n",
       "      <td>2020</td>\n",
       "      <td>5</td>\n",
       "      <td>sella</td>\n",
       "      <td>EUR</td>\n",
       "      <td>1578.00</td>\n",
       "      <td>0.00</td>\n",
       "      <td>1578.00</td>\n",
       "      <td>14510.75</td>\n",
       "    </tr>\n",
       "    <tr>\n",
       "      <th>7</th>\n",
       "      <td>2020</td>\n",
       "      <td>6</td>\n",
       "      <td>sella</td>\n",
       "      <td>EUR</td>\n",
       "      <td>1569.00</td>\n",
       "      <td>1056.00</td>\n",
       "      <td>513.00</td>\n",
       "      <td>15023.75</td>\n",
       "    </tr>\n",
       "    <tr>\n",
       "      <th>8</th>\n",
       "      <td>2020</td>\n",
       "      <td>7</td>\n",
       "      <td>sella</td>\n",
       "      <td>EUR</td>\n",
       "      <td>1563.00</td>\n",
       "      <td>439.50</td>\n",
       "      <td>1123.50</td>\n",
       "      <td>16147.25</td>\n",
       "    </tr>\n",
       "    <tr>\n",
       "      <th>9</th>\n",
       "      <td>2020</td>\n",
       "      <td>8</td>\n",
       "      <td>sella</td>\n",
       "      <td>EUR</td>\n",
       "      <td>4306.48</td>\n",
       "      <td>8094.80</td>\n",
       "      <td>-3788.32</td>\n",
       "      <td>12358.93</td>\n",
       "    </tr>\n",
       "    <tr>\n",
       "      <th>10</th>\n",
       "      <td>2020</td>\n",
       "      <td>9</td>\n",
       "      <td>sella</td>\n",
       "      <td>EUR</td>\n",
       "      <td>370.30</td>\n",
       "      <td>1716.87</td>\n",
       "      <td>-1346.57</td>\n",
       "      <td>11012.36</td>\n",
       "    </tr>\n",
       "    <tr>\n",
       "      <th>11</th>\n",
       "      <td>2020</td>\n",
       "      <td>10</td>\n",
       "      <td>sella</td>\n",
       "      <td>EUR</td>\n",
       "      <td>3921.67</td>\n",
       "      <td>150.60</td>\n",
       "      <td>3771.07</td>\n",
       "      <td>14783.43</td>\n",
       "    </tr>\n",
       "    <tr>\n",
       "      <th>12</th>\n",
       "      <td>2020</td>\n",
       "      <td>11</td>\n",
       "      <td>sella</td>\n",
       "      <td>EUR</td>\n",
       "      <td>1576.00</td>\n",
       "      <td>962.00</td>\n",
       "      <td>614.00</td>\n",
       "      <td>15397.43</td>\n",
       "    </tr>\n",
       "    <tr>\n",
       "      <th>13</th>\n",
       "      <td>2020</td>\n",
       "      <td>12</td>\n",
       "      <td>sella</td>\n",
       "      <td>EUR</td>\n",
       "      <td>1699.18</td>\n",
       "      <td>1154.00</td>\n",
       "      <td>545.18</td>\n",
       "      <td>15942.61</td>\n",
       "    </tr>\n",
       "    <tr>\n",
       "      <th>14</th>\n",
       "      <td>2021</td>\n",
       "      <td>1</td>\n",
       "      <td>sella</td>\n",
       "      <td>EUR</td>\n",
       "      <td>1640.00</td>\n",
       "      <td>1641.70</td>\n",
       "      <td>-1.70</td>\n",
       "      <td>15940.91</td>\n",
       "    </tr>\n",
       "    <tr>\n",
       "      <th>15</th>\n",
       "      <td>2021</td>\n",
       "      <td>2</td>\n",
       "      <td>sella</td>\n",
       "      <td>EUR</td>\n",
       "      <td>2447.45</td>\n",
       "      <td>0.00</td>\n",
       "      <td>2447.45</td>\n",
       "      <td>18388.36</td>\n",
       "    </tr>\n",
       "    <tr>\n",
       "      <th>16</th>\n",
       "      <td>2021</td>\n",
       "      <td>3</td>\n",
       "      <td>sella</td>\n",
       "      <td>EUR</td>\n",
       "      <td>1706.00</td>\n",
       "      <td>0.00</td>\n",
       "      <td>1706.00</td>\n",
       "      <td>20094.36</td>\n",
       "    </tr>\n",
       "    <tr>\n",
       "      <th>17</th>\n",
       "      <td>2021</td>\n",
       "      <td>4</td>\n",
       "      <td>sella</td>\n",
       "      <td>EUR</td>\n",
       "      <td>1781.00</td>\n",
       "      <td>1286.39</td>\n",
       "      <td>494.61</td>\n",
       "      <td>20588.97</td>\n",
       "    </tr>\n",
       "    <tr>\n",
       "      <th>18</th>\n",
       "      <td>2021</td>\n",
       "      <td>5</td>\n",
       "      <td>sella</td>\n",
       "      <td>EUR</td>\n",
       "      <td>2181.70</td>\n",
       "      <td>2163.15</td>\n",
       "      <td>18.55</td>\n",
       "      <td>20607.52</td>\n",
       "    </tr>\n",
       "    <tr>\n",
       "      <th>19</th>\n",
       "      <td>2021</td>\n",
       "      <td>6</td>\n",
       "      <td>sella</td>\n",
       "      <td>EUR</td>\n",
       "      <td>1651.58</td>\n",
       "      <td>7429.15</td>\n",
       "      <td>-5777.57</td>\n",
       "      <td>14829.95</td>\n",
       "    </tr>\n",
       "    <tr>\n",
       "      <th>20</th>\n",
       "      <td>2021</td>\n",
       "      <td>7</td>\n",
       "      <td>sella</td>\n",
       "      <td>EUR</td>\n",
       "      <td>1744.85</td>\n",
       "      <td>2185.50</td>\n",
       "      <td>-440.65</td>\n",
       "      <td>14389.30</td>\n",
       "    </tr>\n",
       "    <tr>\n",
       "      <th>21</th>\n",
       "      <td>2021</td>\n",
       "      <td>8</td>\n",
       "      <td>sella</td>\n",
       "      <td>EUR</td>\n",
       "      <td>1716.17</td>\n",
       "      <td>520.13</td>\n",
       "      <td>1196.04</td>\n",
       "      <td>15585.34</td>\n",
       "    </tr>\n",
       "    <tr>\n",
       "      <th>22</th>\n",
       "      <td>2021</td>\n",
       "      <td>9</td>\n",
       "      <td>sella</td>\n",
       "      <td>EUR</td>\n",
       "      <td>2748.75</td>\n",
       "      <td>0.00</td>\n",
       "      <td>2748.75</td>\n",
       "      <td>18334.09</td>\n",
       "    </tr>\n",
       "    <tr>\n",
       "      <th>23</th>\n",
       "      <td>2021</td>\n",
       "      <td>10</td>\n",
       "      <td>sella</td>\n",
       "      <td>EUR</td>\n",
       "      <td>3108.42</td>\n",
       "      <td>3694.27</td>\n",
       "      <td>-585.85</td>\n",
       "      <td>17748.24</td>\n",
       "    </tr>\n",
       "    <tr>\n",
       "      <th>24</th>\n",
       "      <td>2021</td>\n",
       "      <td>11</td>\n",
       "      <td>sella</td>\n",
       "      <td>EUR</td>\n",
       "      <td>1863.48</td>\n",
       "      <td>3079.85</td>\n",
       "      <td>-1216.37</td>\n",
       "      <td>16531.87</td>\n",
       "    </tr>\n",
       "    <tr>\n",
       "      <th>25</th>\n",
       "      <td>2021</td>\n",
       "      <td>12</td>\n",
       "      <td>sella</td>\n",
       "      <td>EUR</td>\n",
       "      <td>1186.20</td>\n",
       "      <td>13462.90</td>\n",
       "      <td>-12276.70</td>\n",
       "      <td>4255.17</td>\n",
       "    </tr>\n",
       "    <tr>\n",
       "      <th>26</th>\n",
       "      <td>2022</td>\n",
       "      <td>1</td>\n",
       "      <td>sella</td>\n",
       "      <td>EUR</td>\n",
       "      <td>1627.71</td>\n",
       "      <td>531.37</td>\n",
       "      <td>1096.34</td>\n",
       "      <td>5351.51</td>\n",
       "    </tr>\n",
       "    <tr>\n",
       "      <th>27</th>\n",
       "      <td>2022</td>\n",
       "      <td>2</td>\n",
       "      <td>sella</td>\n",
       "      <td>EUR</td>\n",
       "      <td>2089.30</td>\n",
       "      <td>525.72</td>\n",
       "      <td>1563.58</td>\n",
       "      <td>6915.09</td>\n",
       "    </tr>\n",
       "    <tr>\n",
       "      <th>28</th>\n",
       "      <td>2022</td>\n",
       "      <td>3</td>\n",
       "      <td>sella</td>\n",
       "      <td>EUR</td>\n",
       "      <td>1744.19</td>\n",
       "      <td>1884.97</td>\n",
       "      <td>-140.78</td>\n",
       "      <td>6774.31</td>\n",
       "    </tr>\n",
       "    <tr>\n",
       "      <th>29</th>\n",
       "      <td>2022</td>\n",
       "      <td>4</td>\n",
       "      <td>sella</td>\n",
       "      <td>EUR</td>\n",
       "      <td>1733.00</td>\n",
       "      <td>466.97</td>\n",
       "      <td>1266.03</td>\n",
       "      <td>8040.34</td>\n",
       "    </tr>\n",
       "    <tr>\n",
       "      <th>30</th>\n",
       "      <td>2022</td>\n",
       "      <td>5</td>\n",
       "      <td>sella</td>\n",
       "      <td>EUR</td>\n",
       "      <td>1728.00</td>\n",
       "      <td>9.82</td>\n",
       "      <td>1718.18</td>\n",
       "      <td>9758.52</td>\n",
       "    </tr>\n",
       "    <tr>\n",
       "      <th>31</th>\n",
       "      <td>2022</td>\n",
       "      <td>6</td>\n",
       "      <td>sella</td>\n",
       "      <td>EUR</td>\n",
       "      <td>19483.68</td>\n",
       "      <td>233.65</td>\n",
       "      <td>19250.03</td>\n",
       "      <td>29008.55</td>\n",
       "    </tr>\n",
       "    <tr>\n",
       "      <th>32</th>\n",
       "      <td>2022</td>\n",
       "      <td>7</td>\n",
       "      <td>sella</td>\n",
       "      <td>EUR</td>\n",
       "      <td>7498.38</td>\n",
       "      <td>1912.43</td>\n",
       "      <td>5585.95</td>\n",
       "      <td>34594.50</td>\n",
       "    </tr>\n",
       "    <tr>\n",
       "      <th>33</th>\n",
       "      <td>2022</td>\n",
       "      <td>8</td>\n",
       "      <td>sella</td>\n",
       "      <td>EUR</td>\n",
       "      <td>5918.41</td>\n",
       "      <td>2450.97</td>\n",
       "      <td>3467.44</td>\n",
       "      <td>38061.94</td>\n",
       "    </tr>\n",
       "    <tr>\n",
       "      <th>34</th>\n",
       "      <td>2022</td>\n",
       "      <td>9</td>\n",
       "      <td>sella</td>\n",
       "      <td>EUR</td>\n",
       "      <td>4551.91</td>\n",
       "      <td>1432.89</td>\n",
       "      <td>3119.02</td>\n",
       "      <td>41180.96</td>\n",
       "    </tr>\n",
       "    <tr>\n",
       "      <th>35</th>\n",
       "      <td>2022</td>\n",
       "      <td>10</td>\n",
       "      <td>sella</td>\n",
       "      <td>EUR</td>\n",
       "      <td>4033.77</td>\n",
       "      <td>2908.52</td>\n",
       "      <td>1125.25</td>\n",
       "      <td>42306.21</td>\n",
       "    </tr>\n",
       "    <tr>\n",
       "      <th>36</th>\n",
       "      <td>2022</td>\n",
       "      <td>11</td>\n",
       "      <td>sella</td>\n",
       "      <td>EUR</td>\n",
       "      <td>4376.63</td>\n",
       "      <td>2445.54</td>\n",
       "      <td>1931.09</td>\n",
       "      <td>44237.30</td>\n",
       "    </tr>\n",
       "    <tr>\n",
       "      <th>37</th>\n",
       "      <td>2022</td>\n",
       "      <td>12</td>\n",
       "      <td>sella</td>\n",
       "      <td>EUR</td>\n",
       "      <td>598.64</td>\n",
       "      <td>35888.14</td>\n",
       "      <td>-35289.50</td>\n",
       "      <td>8947.80</td>\n",
       "    </tr>\n",
       "    <tr>\n",
       "      <th>38</th>\n",
       "      <td>2023</td>\n",
       "      <td>1</td>\n",
       "      <td>sella</td>\n",
       "      <td>EUR</td>\n",
       "      <td>1978.00</td>\n",
       "      <td>581.27</td>\n",
       "      <td>1396.73</td>\n",
       "      <td>10344.53</td>\n",
       "    </tr>\n",
       "    <tr>\n",
       "      <th>39</th>\n",
       "      <td>2023</td>\n",
       "      <td>2</td>\n",
       "      <td>sella</td>\n",
       "      <td>EUR</td>\n",
       "      <td>2397.00</td>\n",
       "      <td>85.15</td>\n",
       "      <td>2311.85</td>\n",
       "      <td>12656.38</td>\n",
       "    </tr>\n",
       "    <tr>\n",
       "      <th>40</th>\n",
       "      <td>2023</td>\n",
       "      <td>3</td>\n",
       "      <td>sella</td>\n",
       "      <td>EUR</td>\n",
       "      <td>2237.00</td>\n",
       "      <td>1786.02</td>\n",
       "      <td>450.98</td>\n",
       "      <td>13107.36</td>\n",
       "    </tr>\n",
       "    <tr>\n",
       "      <th>41</th>\n",
       "      <td>2023</td>\n",
       "      <td>4</td>\n",
       "      <td>sella</td>\n",
       "      <td>EUR</td>\n",
       "      <td>2350.00</td>\n",
       "      <td>1279.61</td>\n",
       "      <td>1070.39</td>\n",
       "      <td>14177.75</td>\n",
       "    </tr>\n",
       "    <tr>\n",
       "      <th>42</th>\n",
       "      <td>2023</td>\n",
       "      <td>5</td>\n",
       "      <td>sella</td>\n",
       "      <td>EUR</td>\n",
       "      <td>2249.00</td>\n",
       "      <td>8956.02</td>\n",
       "      <td>-6707.02</td>\n",
       "      <td>7470.73</td>\n",
       "    </tr>\n",
       "    <tr>\n",
       "      <th>43</th>\n",
       "      <td>2023</td>\n",
       "      <td>6</td>\n",
       "      <td>sella</td>\n",
       "      <td>EUR</td>\n",
       "      <td>3326.98</td>\n",
       "      <td>2120.71</td>\n",
       "      <td>1206.27</td>\n",
       "      <td>8677.00</td>\n",
       "    </tr>\n",
       "    <tr>\n",
       "      <th>44</th>\n",
       "      <td>2023</td>\n",
       "      <td>7</td>\n",
       "      <td>sella</td>\n",
       "      <td>EUR</td>\n",
       "      <td>3947.08</td>\n",
       "      <td>2949.81</td>\n",
       "      <td>997.27</td>\n",
       "      <td>9674.27</td>\n",
       "    </tr>\n",
       "    <tr>\n",
       "      <th>45</th>\n",
       "      <td>2023</td>\n",
       "      <td>8</td>\n",
       "      <td>sella</td>\n",
       "      <td>EUR</td>\n",
       "      <td>1262.88</td>\n",
       "      <td>2773.58</td>\n",
       "      <td>-1510.70</td>\n",
       "      <td>8163.57</td>\n",
       "    </tr>\n",
       "    <tr>\n",
       "      <th>46</th>\n",
       "      <td>2023</td>\n",
       "      <td>9</td>\n",
       "      <td>sella</td>\n",
       "      <td>EUR</td>\n",
       "      <td>1311.71</td>\n",
       "      <td>1481.94</td>\n",
       "      <td>-170.23</td>\n",
       "      <td>7993.34</td>\n",
       "    </tr>\n",
       "    <tr>\n",
       "      <th>47</th>\n",
       "      <td>2023</td>\n",
       "      <td>10</td>\n",
       "      <td>sella</td>\n",
       "      <td>EUR</td>\n",
       "      <td>1311.71</td>\n",
       "      <td>1685.67</td>\n",
       "      <td>-373.96</td>\n",
       "      <td>7619.38</td>\n",
       "    </tr>\n",
       "    <tr>\n",
       "      <th>48</th>\n",
       "      <td>2023</td>\n",
       "      <td>11</td>\n",
       "      <td>sella</td>\n",
       "      <td>EUR</td>\n",
       "      <td>1311.71</td>\n",
       "      <td>1787.12</td>\n",
       "      <td>-475.41</td>\n",
       "      <td>7143.97</td>\n",
       "    </tr>\n",
       "    <tr>\n",
       "      <th>49</th>\n",
       "      <td>2023</td>\n",
       "      <td>12</td>\n",
       "      <td>sella</td>\n",
       "      <td>EUR</td>\n",
       "      <td>1717.15</td>\n",
       "      <td>1809.65</td>\n",
       "      <td>-92.50</td>\n",
       "      <td>7051.47</td>\n",
       "    </tr>\n",
       "    <tr>\n",
       "      <th>50</th>\n",
       "      <td>2024</td>\n",
       "      <td>1</td>\n",
       "      <td>sella</td>\n",
       "      <td>EUR</td>\n",
       "      <td>1505.54</td>\n",
       "      <td>1330.47</td>\n",
       "      <td>175.07</td>\n",
       "      <td>7226.54</td>\n",
       "    </tr>\n",
       "    <tr>\n",
       "      <th>51</th>\n",
       "      <td>2024</td>\n",
       "      <td>2</td>\n",
       "      <td>sella</td>\n",
       "      <td>EUR</td>\n",
       "      <td>1141.14</td>\n",
       "      <td>5760.16</td>\n",
       "      <td>-4619.02</td>\n",
       "      <td>2607.52</td>\n",
       "    </tr>\n",
       "    <tr>\n",
       "      <th>52</th>\n",
       "      <td>2024</td>\n",
       "      <td>3</td>\n",
       "      <td>sella</td>\n",
       "      <td>EUR</td>\n",
       "      <td>6572.11</td>\n",
       "      <td>3623.25</td>\n",
       "      <td>2948.86</td>\n",
       "      <td>5556.38</td>\n",
       "    </tr>\n",
       "    <tr>\n",
       "      <th>53</th>\n",
       "      <td>2024</td>\n",
       "      <td>4</td>\n",
       "      <td>sella</td>\n",
       "      <td>EUR</td>\n",
       "      <td>7988.53</td>\n",
       "      <td>4501.56</td>\n",
       "      <td>3486.97</td>\n",
       "      <td>8995.65</td>\n",
       "    </tr>\n",
       "    <tr>\n",
       "      <th>54</th>\n",
       "      <td>2024</td>\n",
       "      <td>5</td>\n",
       "      <td>sella</td>\n",
       "      <td>EUR</td>\n",
       "      <td>3715.45</td>\n",
       "      <td>3564.76</td>\n",
       "      <td>150.69</td>\n",
       "      <td>9146.34</td>\n",
       "    </tr>\n",
       "    <tr>\n",
       "      <th>55</th>\n",
       "      <td>2024</td>\n",
       "      <td>6</td>\n",
       "      <td>sella</td>\n",
       "      <td>EUR</td>\n",
       "      <td>5737.45</td>\n",
       "      <td>863.90</td>\n",
       "      <td>4873.55</td>\n",
       "      <td>14019.89</td>\n",
       "    </tr>\n",
       "    <tr>\n",
       "      <th>56</th>\n",
       "      <td>2024</td>\n",
       "      <td>7</td>\n",
       "      <td>sella</td>\n",
       "      <td>EUR</td>\n",
       "      <td>4875.44</td>\n",
       "      <td>6671.99</td>\n",
       "      <td>-1796.55</td>\n",
       "      <td>12223.34</td>\n",
       "    </tr>\n",
       "    <tr>\n",
       "      <th>57</th>\n",
       "      <td>2024</td>\n",
       "      <td>8</td>\n",
       "      <td>sella</td>\n",
       "      <td>EUR</td>\n",
       "      <td>4826.68</td>\n",
       "      <td>3531.78</td>\n",
       "      <td>1294.90</td>\n",
       "      <td>13565.94</td>\n",
       "    </tr>\n",
       "  </tbody>\n",
       "</table>\n",
       "</div>"
      ],
      "text/plain": [
       "    year  month account currency        in       out    in_out   balance\n",
       "0   2019     11   sella      EUR  17606.36      0.00  17606.36  17606.36\n",
       "1   2019     12   sella      EUR    921.00  12142.33 -11221.33   6385.03\n",
       "2   2020      1   sella      EUR   1918.00    131.30   1786.70   8171.73\n",
       "3   2020      2   sella      EUR   1595.00      0.00   1595.00   9766.73\n",
       "4   2020      3   sella      EUR   1584.00      0.00   1584.00  11350.73\n",
       "5   2020      4   sella      EUR   1583.00      0.98   1582.02  12932.75\n",
       "6   2020      5   sella      EUR   1578.00      0.00   1578.00  14510.75\n",
       "7   2020      6   sella      EUR   1569.00   1056.00    513.00  15023.75\n",
       "8   2020      7   sella      EUR   1563.00    439.50   1123.50  16147.25\n",
       "9   2020      8   sella      EUR   4306.48   8094.80  -3788.32  12358.93\n",
       "10  2020      9   sella      EUR    370.30   1716.87  -1346.57  11012.36\n",
       "11  2020     10   sella      EUR   3921.67    150.60   3771.07  14783.43\n",
       "12  2020     11   sella      EUR   1576.00    962.00    614.00  15397.43\n",
       "13  2020     12   sella      EUR   1699.18   1154.00    545.18  15942.61\n",
       "14  2021      1   sella      EUR   1640.00   1641.70     -1.70  15940.91\n",
       "15  2021      2   sella      EUR   2447.45      0.00   2447.45  18388.36\n",
       "16  2021      3   sella      EUR   1706.00      0.00   1706.00  20094.36\n",
       "17  2021      4   sella      EUR   1781.00   1286.39    494.61  20588.97\n",
       "18  2021      5   sella      EUR   2181.70   2163.15     18.55  20607.52\n",
       "19  2021      6   sella      EUR   1651.58   7429.15  -5777.57  14829.95\n",
       "20  2021      7   sella      EUR   1744.85   2185.50   -440.65  14389.30\n",
       "21  2021      8   sella      EUR   1716.17    520.13   1196.04  15585.34\n",
       "22  2021      9   sella      EUR   2748.75      0.00   2748.75  18334.09\n",
       "23  2021     10   sella      EUR   3108.42   3694.27   -585.85  17748.24\n",
       "24  2021     11   sella      EUR   1863.48   3079.85  -1216.37  16531.87\n",
       "25  2021     12   sella      EUR   1186.20  13462.90 -12276.70   4255.17\n",
       "26  2022      1   sella      EUR   1627.71    531.37   1096.34   5351.51\n",
       "27  2022      2   sella      EUR   2089.30    525.72   1563.58   6915.09\n",
       "28  2022      3   sella      EUR   1744.19   1884.97   -140.78   6774.31\n",
       "29  2022      4   sella      EUR   1733.00    466.97   1266.03   8040.34\n",
       "30  2022      5   sella      EUR   1728.00      9.82   1718.18   9758.52\n",
       "31  2022      6   sella      EUR  19483.68    233.65  19250.03  29008.55\n",
       "32  2022      7   sella      EUR   7498.38   1912.43   5585.95  34594.50\n",
       "33  2022      8   sella      EUR   5918.41   2450.97   3467.44  38061.94\n",
       "34  2022      9   sella      EUR   4551.91   1432.89   3119.02  41180.96\n",
       "35  2022     10   sella      EUR   4033.77   2908.52   1125.25  42306.21\n",
       "36  2022     11   sella      EUR   4376.63   2445.54   1931.09  44237.30\n",
       "37  2022     12   sella      EUR    598.64  35888.14 -35289.50   8947.80\n",
       "38  2023      1   sella      EUR   1978.00    581.27   1396.73  10344.53\n",
       "39  2023      2   sella      EUR   2397.00     85.15   2311.85  12656.38\n",
       "40  2023      3   sella      EUR   2237.00   1786.02    450.98  13107.36\n",
       "41  2023      4   sella      EUR   2350.00   1279.61   1070.39  14177.75\n",
       "42  2023      5   sella      EUR   2249.00   8956.02  -6707.02   7470.73\n",
       "43  2023      6   sella      EUR   3326.98   2120.71   1206.27   8677.00\n",
       "44  2023      7   sella      EUR   3947.08   2949.81    997.27   9674.27\n",
       "45  2023      8   sella      EUR   1262.88   2773.58  -1510.70   8163.57\n",
       "46  2023      9   sella      EUR   1311.71   1481.94   -170.23   7993.34\n",
       "47  2023     10   sella      EUR   1311.71   1685.67   -373.96   7619.38\n",
       "48  2023     11   sella      EUR   1311.71   1787.12   -475.41   7143.97\n",
       "49  2023     12   sella      EUR   1717.15   1809.65    -92.50   7051.47\n",
       "50  2024      1   sella      EUR   1505.54   1330.47    175.07   7226.54\n",
       "51  2024      2   sella      EUR   1141.14   5760.16  -4619.02   2607.52\n",
       "52  2024      3   sella      EUR   6572.11   3623.25   2948.86   5556.38\n",
       "53  2024      4   sella      EUR   7988.53   4501.56   3486.97   8995.65\n",
       "54  2024      5   sella      EUR   3715.45   3564.76    150.69   9146.34\n",
       "55  2024      6   sella      EUR   5737.45    863.90   4873.55  14019.89\n",
       "56  2024      7   sella      EUR   4875.44   6671.99  -1796.55  12223.34\n",
       "57  2024      8   sella      EUR   4826.68   3531.78   1294.90  13565.94"
      ]
     },
     "execution_count": 7,
     "metadata": {},
     "output_type": "execute_result"
    }
   ],
   "source": [
    "def get_account_monthly_balance(df, account_name='sella'):\n",
    "    df = df[df.account == account_name]\n",
    "    df = df.sort_values(['date'])\n",
    "    df['in_out'] = df['in'] - df['out']\n",
    "    df['balance'] = round(df.in_out.cumsum(), 2)\n",
    "\n",
    "    return df.groupby(['year', 'month', 'account', 'currency']).agg({'in':'sum', 'out':'sum', 'in_out':'sum', 'balance':'last'}).reset_index()\n",
    "\n",
    "get_account_monthly_balance(df)"
   ]
  },
  {
   "cell_type": "code",
   "execution_count": 8,
   "metadata": {},
   "outputs": [
    {
     "data": {
      "application/vnd.plotly.v1+json": {
       "config": {
        "plotlyServerURL": "https://plot.ly"
       },
       "data": [
        {
         "alignmentgroup": "True",
         "hovertemplate": "month=%{x}<br>balance=%{y}<extra></extra>",
         "legendgroup": "",
         "marker": {
          "color": "#636efa",
          "pattern": {
           "shape": ""
          }
         },
         "name": "",
         "offsetgroup": "",
         "orientation": "v",
         "showlegend": false,
         "textposition": "auto",
         "type": "bar",
         "x": [
          1,
          2,
          3,
          4,
          5,
          6,
          7,
          8
         ],
         "xaxis": "x",
         "y": [
          7226.54,
          2607.52,
          5556.38,
          8995.65,
          9146.34,
          14019.89,
          12223.34,
          13565.94
         ],
         "yaxis": "y"
        }
       ],
       "layout": {
        "barmode": "relative",
        "legend": {
         "tracegroupgap": 0
        },
        "template": {
         "data": {
          "bar": [
           {
            "error_x": {
             "color": "#2a3f5f"
            },
            "error_y": {
             "color": "#2a3f5f"
            },
            "marker": {
             "line": {
              "color": "#E5ECF6",
              "width": 0.5
             },
             "pattern": {
              "fillmode": "overlay",
              "size": 10,
              "solidity": 0.2
             }
            },
            "type": "bar"
           }
          ],
          "barpolar": [
           {
            "marker": {
             "line": {
              "color": "#E5ECF6",
              "width": 0.5
             },
             "pattern": {
              "fillmode": "overlay",
              "size": 10,
              "solidity": 0.2
             }
            },
            "type": "barpolar"
           }
          ],
          "carpet": [
           {
            "aaxis": {
             "endlinecolor": "#2a3f5f",
             "gridcolor": "white",
             "linecolor": "white",
             "minorgridcolor": "white",
             "startlinecolor": "#2a3f5f"
            },
            "baxis": {
             "endlinecolor": "#2a3f5f",
             "gridcolor": "white",
             "linecolor": "white",
             "minorgridcolor": "white",
             "startlinecolor": "#2a3f5f"
            },
            "type": "carpet"
           }
          ],
          "choropleth": [
           {
            "colorbar": {
             "outlinewidth": 0,
             "ticks": ""
            },
            "type": "choropleth"
           }
          ],
          "contour": [
           {
            "colorbar": {
             "outlinewidth": 0,
             "ticks": ""
            },
            "colorscale": [
             [
              0,
              "#0d0887"
             ],
             [
              0.1111111111111111,
              "#46039f"
             ],
             [
              0.2222222222222222,
              "#7201a8"
             ],
             [
              0.3333333333333333,
              "#9c179e"
             ],
             [
              0.4444444444444444,
              "#bd3786"
             ],
             [
              0.5555555555555556,
              "#d8576b"
             ],
             [
              0.6666666666666666,
              "#ed7953"
             ],
             [
              0.7777777777777778,
              "#fb9f3a"
             ],
             [
              0.8888888888888888,
              "#fdca26"
             ],
             [
              1,
              "#f0f921"
             ]
            ],
            "type": "contour"
           }
          ],
          "contourcarpet": [
           {
            "colorbar": {
             "outlinewidth": 0,
             "ticks": ""
            },
            "type": "contourcarpet"
           }
          ],
          "heatmap": [
           {
            "colorbar": {
             "outlinewidth": 0,
             "ticks": ""
            },
            "colorscale": [
             [
              0,
              "#0d0887"
             ],
             [
              0.1111111111111111,
              "#46039f"
             ],
             [
              0.2222222222222222,
              "#7201a8"
             ],
             [
              0.3333333333333333,
              "#9c179e"
             ],
             [
              0.4444444444444444,
              "#bd3786"
             ],
             [
              0.5555555555555556,
              "#d8576b"
             ],
             [
              0.6666666666666666,
              "#ed7953"
             ],
             [
              0.7777777777777778,
              "#fb9f3a"
             ],
             [
              0.8888888888888888,
              "#fdca26"
             ],
             [
              1,
              "#f0f921"
             ]
            ],
            "type": "heatmap"
           }
          ],
          "heatmapgl": [
           {
            "colorbar": {
             "outlinewidth": 0,
             "ticks": ""
            },
            "colorscale": [
             [
              0,
              "#0d0887"
             ],
             [
              0.1111111111111111,
              "#46039f"
             ],
             [
              0.2222222222222222,
              "#7201a8"
             ],
             [
              0.3333333333333333,
              "#9c179e"
             ],
             [
              0.4444444444444444,
              "#bd3786"
             ],
             [
              0.5555555555555556,
              "#d8576b"
             ],
             [
              0.6666666666666666,
              "#ed7953"
             ],
             [
              0.7777777777777778,
              "#fb9f3a"
             ],
             [
              0.8888888888888888,
              "#fdca26"
             ],
             [
              1,
              "#f0f921"
             ]
            ],
            "type": "heatmapgl"
           }
          ],
          "histogram": [
           {
            "marker": {
             "pattern": {
              "fillmode": "overlay",
              "size": 10,
              "solidity": 0.2
             }
            },
            "type": "histogram"
           }
          ],
          "histogram2d": [
           {
            "colorbar": {
             "outlinewidth": 0,
             "ticks": ""
            },
            "colorscale": [
             [
              0,
              "#0d0887"
             ],
             [
              0.1111111111111111,
              "#46039f"
             ],
             [
              0.2222222222222222,
              "#7201a8"
             ],
             [
              0.3333333333333333,
              "#9c179e"
             ],
             [
              0.4444444444444444,
              "#bd3786"
             ],
             [
              0.5555555555555556,
              "#d8576b"
             ],
             [
              0.6666666666666666,
              "#ed7953"
             ],
             [
              0.7777777777777778,
              "#fb9f3a"
             ],
             [
              0.8888888888888888,
              "#fdca26"
             ],
             [
              1,
              "#f0f921"
             ]
            ],
            "type": "histogram2d"
           }
          ],
          "histogram2dcontour": [
           {
            "colorbar": {
             "outlinewidth": 0,
             "ticks": ""
            },
            "colorscale": [
             [
              0,
              "#0d0887"
             ],
             [
              0.1111111111111111,
              "#46039f"
             ],
             [
              0.2222222222222222,
              "#7201a8"
             ],
             [
              0.3333333333333333,
              "#9c179e"
             ],
             [
              0.4444444444444444,
              "#bd3786"
             ],
             [
              0.5555555555555556,
              "#d8576b"
             ],
             [
              0.6666666666666666,
              "#ed7953"
             ],
             [
              0.7777777777777778,
              "#fb9f3a"
             ],
             [
              0.8888888888888888,
              "#fdca26"
             ],
             [
              1,
              "#f0f921"
             ]
            ],
            "type": "histogram2dcontour"
           }
          ],
          "mesh3d": [
           {
            "colorbar": {
             "outlinewidth": 0,
             "ticks": ""
            },
            "type": "mesh3d"
           }
          ],
          "parcoords": [
           {
            "line": {
             "colorbar": {
              "outlinewidth": 0,
              "ticks": ""
             }
            },
            "type": "parcoords"
           }
          ],
          "pie": [
           {
            "automargin": true,
            "type": "pie"
           }
          ],
          "scatter": [
           {
            "fillpattern": {
             "fillmode": "overlay",
             "size": 10,
             "solidity": 0.2
            },
            "type": "scatter"
           }
          ],
          "scatter3d": [
           {
            "line": {
             "colorbar": {
              "outlinewidth": 0,
              "ticks": ""
             }
            },
            "marker": {
             "colorbar": {
              "outlinewidth": 0,
              "ticks": ""
             }
            },
            "type": "scatter3d"
           }
          ],
          "scattercarpet": [
           {
            "marker": {
             "colorbar": {
              "outlinewidth": 0,
              "ticks": ""
             }
            },
            "type": "scattercarpet"
           }
          ],
          "scattergeo": [
           {
            "marker": {
             "colorbar": {
              "outlinewidth": 0,
              "ticks": ""
             }
            },
            "type": "scattergeo"
           }
          ],
          "scattergl": [
           {
            "marker": {
             "colorbar": {
              "outlinewidth": 0,
              "ticks": ""
             }
            },
            "type": "scattergl"
           }
          ],
          "scattermapbox": [
           {
            "marker": {
             "colorbar": {
              "outlinewidth": 0,
              "ticks": ""
             }
            },
            "type": "scattermapbox"
           }
          ],
          "scatterpolar": [
           {
            "marker": {
             "colorbar": {
              "outlinewidth": 0,
              "ticks": ""
             }
            },
            "type": "scatterpolar"
           }
          ],
          "scatterpolargl": [
           {
            "marker": {
             "colorbar": {
              "outlinewidth": 0,
              "ticks": ""
             }
            },
            "type": "scatterpolargl"
           }
          ],
          "scatterternary": [
           {
            "marker": {
             "colorbar": {
              "outlinewidth": 0,
              "ticks": ""
             }
            },
            "type": "scatterternary"
           }
          ],
          "surface": [
           {
            "colorbar": {
             "outlinewidth": 0,
             "ticks": ""
            },
            "colorscale": [
             [
              0,
              "#0d0887"
             ],
             [
              0.1111111111111111,
              "#46039f"
             ],
             [
              0.2222222222222222,
              "#7201a8"
             ],
             [
              0.3333333333333333,
              "#9c179e"
             ],
             [
              0.4444444444444444,
              "#bd3786"
             ],
             [
              0.5555555555555556,
              "#d8576b"
             ],
             [
              0.6666666666666666,
              "#ed7953"
             ],
             [
              0.7777777777777778,
              "#fb9f3a"
             ],
             [
              0.8888888888888888,
              "#fdca26"
             ],
             [
              1,
              "#f0f921"
             ]
            ],
            "type": "surface"
           }
          ],
          "table": [
           {
            "cells": {
             "fill": {
              "color": "#EBF0F8"
             },
             "line": {
              "color": "white"
             }
            },
            "header": {
             "fill": {
              "color": "#C8D4E3"
             },
             "line": {
              "color": "white"
             }
            },
            "type": "table"
           }
          ]
         },
         "layout": {
          "annotationdefaults": {
           "arrowcolor": "#2a3f5f",
           "arrowhead": 0,
           "arrowwidth": 1
          },
          "autotypenumbers": "strict",
          "coloraxis": {
           "colorbar": {
            "outlinewidth": 0,
            "ticks": ""
           }
          },
          "colorscale": {
           "diverging": [
            [
             0,
             "#8e0152"
            ],
            [
             0.1,
             "#c51b7d"
            ],
            [
             0.2,
             "#de77ae"
            ],
            [
             0.3,
             "#f1b6da"
            ],
            [
             0.4,
             "#fde0ef"
            ],
            [
             0.5,
             "#f7f7f7"
            ],
            [
             0.6,
             "#e6f5d0"
            ],
            [
             0.7,
             "#b8e186"
            ],
            [
             0.8,
             "#7fbc41"
            ],
            [
             0.9,
             "#4d9221"
            ],
            [
             1,
             "#276419"
            ]
           ],
           "sequential": [
            [
             0,
             "#0d0887"
            ],
            [
             0.1111111111111111,
             "#46039f"
            ],
            [
             0.2222222222222222,
             "#7201a8"
            ],
            [
             0.3333333333333333,
             "#9c179e"
            ],
            [
             0.4444444444444444,
             "#bd3786"
            ],
            [
             0.5555555555555556,
             "#d8576b"
            ],
            [
             0.6666666666666666,
             "#ed7953"
            ],
            [
             0.7777777777777778,
             "#fb9f3a"
            ],
            [
             0.8888888888888888,
             "#fdca26"
            ],
            [
             1,
             "#f0f921"
            ]
           ],
           "sequentialminus": [
            [
             0,
             "#0d0887"
            ],
            [
             0.1111111111111111,
             "#46039f"
            ],
            [
             0.2222222222222222,
             "#7201a8"
            ],
            [
             0.3333333333333333,
             "#9c179e"
            ],
            [
             0.4444444444444444,
             "#bd3786"
            ],
            [
             0.5555555555555556,
             "#d8576b"
            ],
            [
             0.6666666666666666,
             "#ed7953"
            ],
            [
             0.7777777777777778,
             "#fb9f3a"
            ],
            [
             0.8888888888888888,
             "#fdca26"
            ],
            [
             1,
             "#f0f921"
            ]
           ]
          },
          "colorway": [
           "#636efa",
           "#EF553B",
           "#00cc96",
           "#ab63fa",
           "#FFA15A",
           "#19d3f3",
           "#FF6692",
           "#B6E880",
           "#FF97FF",
           "#FECB52"
          ],
          "font": {
           "color": "#2a3f5f"
          },
          "geo": {
           "bgcolor": "white",
           "lakecolor": "white",
           "landcolor": "#E5ECF6",
           "showlakes": true,
           "showland": true,
           "subunitcolor": "white"
          },
          "hoverlabel": {
           "align": "left"
          },
          "hovermode": "closest",
          "mapbox": {
           "style": "light"
          },
          "paper_bgcolor": "white",
          "plot_bgcolor": "#E5ECF6",
          "polar": {
           "angularaxis": {
            "gridcolor": "white",
            "linecolor": "white",
            "ticks": ""
           },
           "bgcolor": "#E5ECF6",
           "radialaxis": {
            "gridcolor": "white",
            "linecolor": "white",
            "ticks": ""
           }
          },
          "scene": {
           "xaxis": {
            "backgroundcolor": "#E5ECF6",
            "gridcolor": "white",
            "gridwidth": 2,
            "linecolor": "white",
            "showbackground": true,
            "ticks": "",
            "zerolinecolor": "white"
           },
           "yaxis": {
            "backgroundcolor": "#E5ECF6",
            "gridcolor": "white",
            "gridwidth": 2,
            "linecolor": "white",
            "showbackground": true,
            "ticks": "",
            "zerolinecolor": "white"
           },
           "zaxis": {
            "backgroundcolor": "#E5ECF6",
            "gridcolor": "white",
            "gridwidth": 2,
            "linecolor": "white",
            "showbackground": true,
            "ticks": "",
            "zerolinecolor": "white"
           }
          },
          "shapedefaults": {
           "line": {
            "color": "#2a3f5f"
           }
          },
          "ternary": {
           "aaxis": {
            "gridcolor": "white",
            "linecolor": "white",
            "ticks": ""
           },
           "baxis": {
            "gridcolor": "white",
            "linecolor": "white",
            "ticks": ""
           },
           "bgcolor": "#E5ECF6",
           "caxis": {
            "gridcolor": "white",
            "linecolor": "white",
            "ticks": ""
           }
          },
          "title": {
           "x": 0.05
          },
          "xaxis": {
           "automargin": true,
           "gridcolor": "white",
           "linecolor": "white",
           "ticks": "",
           "title": {
            "standoff": 15
           },
           "zerolinecolor": "white",
           "zerolinewidth": 2
          },
          "yaxis": {
           "automargin": true,
           "gridcolor": "white",
           "linecolor": "white",
           "ticks": "",
           "title": {
            "standoff": 15
           },
           "zerolinecolor": "white",
           "zerolinewidth": 2
          }
         }
        },
        "title": {
         "text": "Monthly balance | SELLA | 2024"
        },
        "xaxis": {
         "anchor": "y",
         "domain": [
          0,
          1
         ],
         "labelalias": {
          "1": "Jan",
          "2": "Feb",
          "3": "Mar",
          "4": "Apr",
          "5": "May",
          "6": "Jun",
          "7": "Jul",
          "8": "Aug",
          "9": "Sep",
          "10": "Oct",
          "11": "Nov",
          "12": "Dec"
         },
         "title": {}
        },
        "yaxis": {
         "anchor": "x",
         "domain": [
          0,
          1
         ],
         "title": {
          "text": "Balance"
         }
        }
       }
      }
     },
     "metadata": {},
     "output_type": "display_data"
    }
   ],
   "source": [
    "MONTHS = ['Jan', 'Feb', 'Mar', 'Apr', 'May', 'Jun', 'Jul', 'Aug', 'Sep', 'Oct', 'Nov', 'Dec']\n",
    "\n",
    "def monthly_balance_plot(df, account_name='sella', year=2024):\n",
    "    data = get_account_monthly_balance(df, account_name)\n",
    "\n",
    "    if not df.empty and year:\n",
    "\n",
    "        balance_df = data[data.year == int(year)]\n",
    "        # print(balance_df)\n",
    "\n",
    "        title = f'Monthly balance | {account_name.upper()} | {year}'\n",
    "\n",
    "        fig = px.bar(\n",
    "            data_frame=balance_df,\n",
    "            x='month',\n",
    "            y='balance',\n",
    "            title=title\n",
    "        )\n",
    "\n",
    "        fig.update_xaxes(title=None, labelalias=dict(zip([1,2,3,4,5,6,7,8,9,10,11,12], MONTHS)))\n",
    "        fig.update_yaxes(title='Balance')\n",
    "\n",
    "        # fig.show()\n",
    "        return fig\n",
    "    \n",
    "monthly_balance_plot(df,'sella').show()"
   ]
  },
  {
   "cell_type": "code",
   "execution_count": 12,
   "metadata": {},
   "outputs": [
    {
     "data": {
      "text/html": [
       "<div>\n",
       "<style scoped>\n",
       "    .dataframe tbody tr th:only-of-type {\n",
       "        vertical-align: middle;\n",
       "    }\n",
       "\n",
       "    .dataframe tbody tr th {\n",
       "        vertical-align: top;\n",
       "    }\n",
       "\n",
       "    .dataframe thead th {\n",
       "        text-align: right;\n",
       "    }\n",
       "</style>\n",
       "<table border=\"1\" class=\"dataframe\">\n",
       "  <thead>\n",
       "    <tr style=\"text-align: right;\">\n",
       "      <th></th>\n",
       "      <th>year</th>\n",
       "      <th>month</th>\n",
       "      <th>category</th>\n",
       "      <th>in</th>\n",
       "      <th>out</th>\n",
       "      <th>total_income</th>\n",
       "      <th>pcg_in_out</th>\n",
       "    </tr>\n",
       "  </thead>\n",
       "  <tbody>\n",
       "    <tr>\n",
       "      <th>0</th>\n",
       "      <td>2024</td>\n",
       "      <td>1</td>\n",
       "      <td>salary</td>\n",
       "      <td>5155.47</td>\n",
       "      <td>0.00</td>\n",
       "      <td>5155.47</td>\n",
       "      <td>1.000000</td>\n",
       "    </tr>\n",
       "    <tr>\n",
       "      <th>1</th>\n",
       "      <td>2024</td>\n",
       "      <td>1</td>\n",
       "      <td>wants</td>\n",
       "      <td>0.00</td>\n",
       "      <td>2572.58</td>\n",
       "      <td>5155.47</td>\n",
       "      <td>-0.499000</td>\n",
       "    </tr>\n",
       "    <tr>\n",
       "      <th>2</th>\n",
       "      <td>2024</td>\n",
       "      <td>2</td>\n",
       "      <td>needs</td>\n",
       "      <td>0.00</td>\n",
       "      <td>4848.00</td>\n",
       "      <td>1620.47</td>\n",
       "      <td>-2.991725</td>\n",
       "    </tr>\n",
       "    <tr>\n",
       "      <th>3</th>\n",
       "      <td>2024</td>\n",
       "      <td>2</td>\n",
       "      <td>salary</td>\n",
       "      <td>1141.14</td>\n",
       "      <td>0.00</td>\n",
       "      <td>1620.47</td>\n",
       "      <td>0.704203</td>\n",
       "    </tr>\n",
       "    <tr>\n",
       "      <th>4</th>\n",
       "      <td>2024</td>\n",
       "      <td>2</td>\n",
       "      <td>transfer</td>\n",
       "      <td>479.33</td>\n",
       "      <td>0.00</td>\n",
       "      <td>1620.47</td>\n",
       "      <td>0.295797</td>\n",
       "    </tr>\n",
       "    <tr>\n",
       "      <th>5</th>\n",
       "      <td>2024</td>\n",
       "      <td>2</td>\n",
       "      <td>wants</td>\n",
       "      <td>0.00</td>\n",
       "      <td>1885.09</td>\n",
       "      <td>1620.47</td>\n",
       "      <td>-1.163298</td>\n",
       "    </tr>\n",
       "    <tr>\n",
       "      <th>6</th>\n",
       "      <td>2024</td>\n",
       "      <td>3</td>\n",
       "      <td>bills</td>\n",
       "      <td>0.00</td>\n",
       "      <td>150.00</td>\n",
       "      <td>7573.44</td>\n",
       "      <td>-0.019806</td>\n",
       "    </tr>\n",
       "    <tr>\n",
       "      <th>7</th>\n",
       "      <td>2024</td>\n",
       "      <td>3</td>\n",
       "      <td>needs</td>\n",
       "      <td>2424.00</td>\n",
       "      <td>3007.98</td>\n",
       "      <td>7573.44</td>\n",
       "      <td>-0.077109</td>\n",
       "    </tr>\n",
       "    <tr>\n",
       "      <th>8</th>\n",
       "      <td>2024</td>\n",
       "      <td>3</td>\n",
       "      <td>salary</td>\n",
       "      <td>4148.11</td>\n",
       "      <td>0.00</td>\n",
       "      <td>7573.44</td>\n",
       "      <td>0.547718</td>\n",
       "    </tr>\n",
       "    <tr>\n",
       "      <th>9</th>\n",
       "      <td>2024</td>\n",
       "      <td>3</td>\n",
       "      <td>subscription</td>\n",
       "      <td>0.00</td>\n",
       "      <td>59.40</td>\n",
       "      <td>7573.44</td>\n",
       "      <td>-0.007843</td>\n",
       "    </tr>\n",
       "    <tr>\n",
       "      <th>10</th>\n",
       "      <td>2024</td>\n",
       "      <td>3</td>\n",
       "      <td>transfer</td>\n",
       "      <td>1001.33</td>\n",
       "      <td>0.00</td>\n",
       "      <td>7573.44</td>\n",
       "      <td>0.132216</td>\n",
       "    </tr>\n",
       "    <tr>\n",
       "      <th>11</th>\n",
       "      <td>2024</td>\n",
       "      <td>3</td>\n",
       "      <td>wants</td>\n",
       "      <td>0.00</td>\n",
       "      <td>2602.48</td>\n",
       "      <td>7573.44</td>\n",
       "      <td>-0.343632</td>\n",
       "    </tr>\n",
       "    <tr>\n",
       "      <th>12</th>\n",
       "      <td>2024</td>\n",
       "      <td>4</td>\n",
       "      <td>bills</td>\n",
       "      <td>0.00</td>\n",
       "      <td>227.99</td>\n",
       "      <td>8988.53</td>\n",
       "      <td>-0.025365</td>\n",
       "    </tr>\n",
       "    <tr>\n",
       "      <th>13</th>\n",
       "      <td>2024</td>\n",
       "      <td>4</td>\n",
       "      <td>needs</td>\n",
       "      <td>2524.00</td>\n",
       "      <td>3143.60</td>\n",
       "      <td>8988.53</td>\n",
       "      <td>-0.068932</td>\n",
       "    </tr>\n",
       "    <tr>\n",
       "      <th>14</th>\n",
       "      <td>2024</td>\n",
       "      <td>4</td>\n",
       "      <td>refund</td>\n",
       "      <td>17.20</td>\n",
       "      <td>0.00</td>\n",
       "      <td>8988.53</td>\n",
       "      <td>0.001914</td>\n",
       "    </tr>\n",
       "    <tr>\n",
       "      <th>15</th>\n",
       "      <td>2024</td>\n",
       "      <td>4</td>\n",
       "      <td>salary</td>\n",
       "      <td>5447.33</td>\n",
       "      <td>0.00</td>\n",
       "      <td>8988.53</td>\n",
       "      <td>0.606031</td>\n",
       "    </tr>\n",
       "    <tr>\n",
       "      <th>16</th>\n",
       "      <td>2024</td>\n",
       "      <td>4</td>\n",
       "      <td>subscription</td>\n",
       "      <td>0.00</td>\n",
       "      <td>9.54</td>\n",
       "      <td>8988.53</td>\n",
       "      <td>-0.001061</td>\n",
       "    </tr>\n",
       "    <tr>\n",
       "      <th>17</th>\n",
       "      <td>2024</td>\n",
       "      <td>4</td>\n",
       "      <td>transfer</td>\n",
       "      <td>1000.00</td>\n",
       "      <td>1000.00</td>\n",
       "      <td>8988.53</td>\n",
       "      <td>0.000000</td>\n",
       "    </tr>\n",
       "    <tr>\n",
       "      <th>18</th>\n",
       "      <td>2024</td>\n",
       "      <td>4</td>\n",
       "      <td>wants</td>\n",
       "      <td>0.00</td>\n",
       "      <td>634.57</td>\n",
       "      <td>8988.53</td>\n",
       "      <td>-0.070598</td>\n",
       "    </tr>\n",
       "    <tr>\n",
       "      <th>19</th>\n",
       "      <td>2024</td>\n",
       "      <td>5</td>\n",
       "      <td>bills</td>\n",
       "      <td>0.00</td>\n",
       "      <td>85.22</td>\n",
       "      <td>3715.45</td>\n",
       "      <td>-0.022937</td>\n",
       "    </tr>\n",
       "    <tr>\n",
       "      <th>20</th>\n",
       "      <td>2024</td>\n",
       "      <td>5</td>\n",
       "      <td>needs</td>\n",
       "      <td>0.00</td>\n",
       "      <td>2672.93</td>\n",
       "      <td>3715.45</td>\n",
       "      <td>-0.719409</td>\n",
       "    </tr>\n",
       "    <tr>\n",
       "      <th>21</th>\n",
       "      <td>2024</td>\n",
       "      <td>5</td>\n",
       "      <td>refund</td>\n",
       "      <td>74.99</td>\n",
       "      <td>0.00</td>\n",
       "      <td>3715.45</td>\n",
       "      <td>0.020183</td>\n",
       "    </tr>\n",
       "    <tr>\n",
       "      <th>22</th>\n",
       "      <td>2024</td>\n",
       "      <td>5</td>\n",
       "      <td>salary</td>\n",
       "      <td>3640.46</td>\n",
       "      <td>0.00</td>\n",
       "      <td>3715.45</td>\n",
       "      <td>0.979817</td>\n",
       "    </tr>\n",
       "    <tr>\n",
       "      <th>23</th>\n",
       "      <td>2024</td>\n",
       "      <td>5</td>\n",
       "      <td>subscription</td>\n",
       "      <td>0.00</td>\n",
       "      <td>9.57</td>\n",
       "      <td>3715.45</td>\n",
       "      <td>-0.002576</td>\n",
       "    </tr>\n",
       "    <tr>\n",
       "      <th>24</th>\n",
       "      <td>2024</td>\n",
       "      <td>5</td>\n",
       "      <td>wants</td>\n",
       "      <td>0.00</td>\n",
       "      <td>1383.04</td>\n",
       "      <td>3715.45</td>\n",
       "      <td>-0.372240</td>\n",
       "    </tr>\n",
       "    <tr>\n",
       "      <th>25</th>\n",
       "      <td>2024</td>\n",
       "      <td>6</td>\n",
       "      <td>bills</td>\n",
       "      <td>0.00</td>\n",
       "      <td>20.00</td>\n",
       "      <td>6375.45</td>\n",
       "      <td>-0.003137</td>\n",
       "    </tr>\n",
       "    <tr>\n",
       "      <th>26</th>\n",
       "      <td>2024</td>\n",
       "      <td>6</td>\n",
       "      <td>needs</td>\n",
       "      <td>1262.00</td>\n",
       "      <td>415.96</td>\n",
       "      <td>6375.45</td>\n",
       "      <td>0.132703</td>\n",
       "    </tr>\n",
       "    <tr>\n",
       "      <th>27</th>\n",
       "      <td>2024</td>\n",
       "      <td>6</td>\n",
       "      <td>refund</td>\n",
       "      <td>50.00</td>\n",
       "      <td>0.00</td>\n",
       "      <td>6375.45</td>\n",
       "      <td>0.007843</td>\n",
       "    </tr>\n",
       "    <tr>\n",
       "      <th>28</th>\n",
       "      <td>2024</td>\n",
       "      <td>6</td>\n",
       "      <td>salary</td>\n",
       "      <td>4425.45</td>\n",
       "      <td>0.00</td>\n",
       "      <td>6375.45</td>\n",
       "      <td>0.694139</td>\n",
       "    </tr>\n",
       "    <tr>\n",
       "      <th>29</th>\n",
       "      <td>2024</td>\n",
       "      <td>6</td>\n",
       "      <td>subscription</td>\n",
       "      <td>0.00</td>\n",
       "      <td>59.48</td>\n",
       "      <td>6375.45</td>\n",
       "      <td>-0.009330</td>\n",
       "    </tr>\n",
       "    <tr>\n",
       "      <th>30</th>\n",
       "      <td>2024</td>\n",
       "      <td>6</td>\n",
       "      <td>transfer</td>\n",
       "      <td>618.00</td>\n",
       "      <td>600.12</td>\n",
       "      <td>6375.45</td>\n",
       "      <td>0.002805</td>\n",
       "    </tr>\n",
       "    <tr>\n",
       "      <th>31</th>\n",
       "      <td>2024</td>\n",
       "      <td>6</td>\n",
       "      <td>wants</td>\n",
       "      <td>20.00</td>\n",
       "      <td>623.83</td>\n",
       "      <td>6375.45</td>\n",
       "      <td>-0.094712</td>\n",
       "    </tr>\n",
       "    <tr>\n",
       "      <th>32</th>\n",
       "      <td>2024</td>\n",
       "      <td>7</td>\n",
       "      <td>needs</td>\n",
       "      <td>1212.00</td>\n",
       "      <td>5337.33</td>\n",
       "      <td>5395.44</td>\n",
       "      <td>-0.764596</td>\n",
       "    </tr>\n",
       "    <tr>\n",
       "      <th>33</th>\n",
       "      <td>2024</td>\n",
       "      <td>7</td>\n",
       "      <td>salary</td>\n",
       "      <td>3640.44</td>\n",
       "      <td>0.00</td>\n",
       "      <td>5395.44</td>\n",
       "      <td>0.674725</td>\n",
       "    </tr>\n",
       "    <tr>\n",
       "      <th>34</th>\n",
       "      <td>2024</td>\n",
       "      <td>7</td>\n",
       "      <td>subscription</td>\n",
       "      <td>0.00</td>\n",
       "      <td>9.52</td>\n",
       "      <td>5395.44</td>\n",
       "      <td>-0.001764</td>\n",
       "    </tr>\n",
       "    <tr>\n",
       "      <th>35</th>\n",
       "      <td>2024</td>\n",
       "      <td>7</td>\n",
       "      <td>transfer</td>\n",
       "      <td>500.00</td>\n",
       "      <td>500.00</td>\n",
       "      <td>5395.44</td>\n",
       "      <td>0.000000</td>\n",
       "    </tr>\n",
       "    <tr>\n",
       "      <th>36</th>\n",
       "      <td>2024</td>\n",
       "      <td>7</td>\n",
       "      <td>wants</td>\n",
       "      <td>43.00</td>\n",
       "      <td>1584.02</td>\n",
       "      <td>5395.44</td>\n",
       "      <td>-0.285615</td>\n",
       "    </tr>\n",
       "    <tr>\n",
       "      <th>37</th>\n",
       "      <td>2024</td>\n",
       "      <td>8</td>\n",
       "      <td>bills</td>\n",
       "      <td>0.00</td>\n",
       "      <td>85.74</td>\n",
       "      <td>5526.68</td>\n",
       "      <td>-0.015514</td>\n",
       "    </tr>\n",
       "    <tr>\n",
       "      <th>38</th>\n",
       "      <td>2024</td>\n",
       "      <td>8</td>\n",
       "      <td>needs</td>\n",
       "      <td>1512.00</td>\n",
       "      <td>2745.32</td>\n",
       "      <td>5526.68</td>\n",
       "      <td>-0.223157</td>\n",
       "    </tr>\n",
       "    <tr>\n",
       "      <th>39</th>\n",
       "      <td>2024</td>\n",
       "      <td>8</td>\n",
       "      <td>salary</td>\n",
       "      <td>3514.68</td>\n",
       "      <td>0.00</td>\n",
       "      <td>5526.68</td>\n",
       "      <td>0.635948</td>\n",
       "    </tr>\n",
       "    <tr>\n",
       "      <th>40</th>\n",
       "      <td>2024</td>\n",
       "      <td>8</td>\n",
       "      <td>subscription</td>\n",
       "      <td>0.00</td>\n",
       "      <td>9.43</td>\n",
       "      <td>5526.68</td>\n",
       "      <td>-0.001706</td>\n",
       "    </tr>\n",
       "    <tr>\n",
       "      <th>41</th>\n",
       "      <td>2024</td>\n",
       "      <td>8</td>\n",
       "      <td>transfer</td>\n",
       "      <td>500.00</td>\n",
       "      <td>500.00</td>\n",
       "      <td>5526.68</td>\n",
       "      <td>0.000000</td>\n",
       "    </tr>\n",
       "    <tr>\n",
       "      <th>42</th>\n",
       "      <td>2024</td>\n",
       "      <td>8</td>\n",
       "      <td>wants</td>\n",
       "      <td>0.00</td>\n",
       "      <td>1151.74</td>\n",
       "      <td>5526.68</td>\n",
       "      <td>-0.208396</td>\n",
       "    </tr>\n",
       "  </tbody>\n",
       "</table>\n",
       "</div>"
      ],
      "text/plain": [
       "    year  month      category       in      out  total_income  pcg_in_out\n",
       "0   2024      1        salary  5155.47     0.00       5155.47    1.000000\n",
       "1   2024      1         wants     0.00  2572.58       5155.47   -0.499000\n",
       "2   2024      2         needs     0.00  4848.00       1620.47   -2.991725\n",
       "3   2024      2        salary  1141.14     0.00       1620.47    0.704203\n",
       "4   2024      2      transfer   479.33     0.00       1620.47    0.295797\n",
       "5   2024      2         wants     0.00  1885.09       1620.47   -1.163298\n",
       "6   2024      3         bills     0.00   150.00       7573.44   -0.019806\n",
       "7   2024      3         needs  2424.00  3007.98       7573.44   -0.077109\n",
       "8   2024      3        salary  4148.11     0.00       7573.44    0.547718\n",
       "9   2024      3  subscription     0.00    59.40       7573.44   -0.007843\n",
       "10  2024      3      transfer  1001.33     0.00       7573.44    0.132216\n",
       "11  2024      3         wants     0.00  2602.48       7573.44   -0.343632\n",
       "12  2024      4         bills     0.00   227.99       8988.53   -0.025365\n",
       "13  2024      4         needs  2524.00  3143.60       8988.53   -0.068932\n",
       "14  2024      4        refund    17.20     0.00       8988.53    0.001914\n",
       "15  2024      4        salary  5447.33     0.00       8988.53    0.606031\n",
       "16  2024      4  subscription     0.00     9.54       8988.53   -0.001061\n",
       "17  2024      4      transfer  1000.00  1000.00       8988.53    0.000000\n",
       "18  2024      4         wants     0.00   634.57       8988.53   -0.070598\n",
       "19  2024      5         bills     0.00    85.22       3715.45   -0.022937\n",
       "20  2024      5         needs     0.00  2672.93       3715.45   -0.719409\n",
       "21  2024      5        refund    74.99     0.00       3715.45    0.020183\n",
       "22  2024      5        salary  3640.46     0.00       3715.45    0.979817\n",
       "23  2024      5  subscription     0.00     9.57       3715.45   -0.002576\n",
       "24  2024      5         wants     0.00  1383.04       3715.45   -0.372240\n",
       "25  2024      6         bills     0.00    20.00       6375.45   -0.003137\n",
       "26  2024      6         needs  1262.00   415.96       6375.45    0.132703\n",
       "27  2024      6        refund    50.00     0.00       6375.45    0.007843\n",
       "28  2024      6        salary  4425.45     0.00       6375.45    0.694139\n",
       "29  2024      6  subscription     0.00    59.48       6375.45   -0.009330\n",
       "30  2024      6      transfer   618.00   600.12       6375.45    0.002805\n",
       "31  2024      6         wants    20.00   623.83       6375.45   -0.094712\n",
       "32  2024      7         needs  1212.00  5337.33       5395.44   -0.764596\n",
       "33  2024      7        salary  3640.44     0.00       5395.44    0.674725\n",
       "34  2024      7  subscription     0.00     9.52       5395.44   -0.001764\n",
       "35  2024      7      transfer   500.00   500.00       5395.44    0.000000\n",
       "36  2024      7         wants    43.00  1584.02       5395.44   -0.285615\n",
       "37  2024      8         bills     0.00    85.74       5526.68   -0.015514\n",
       "38  2024      8         needs  1512.00  2745.32       5526.68   -0.223157\n",
       "39  2024      8        salary  3514.68     0.00       5526.68    0.635948\n",
       "40  2024      8  subscription     0.00     9.43       5526.68   -0.001706\n",
       "41  2024      8      transfer   500.00   500.00       5526.68    0.000000\n",
       "42  2024      8         wants     0.00  1151.74       5526.68   -0.208396"
      ]
     },
     "execution_count": 12,
     "metadata": {},
     "output_type": "execute_result"
    }
   ],
   "source": [
    "def exchange_in_out(df):\n",
    "    if df.currency == 'GBP':\n",
    "        rate = 1.19\n",
    "    else:\n",
    "        rate = 1\n",
    "    \n",
    "    df['in'] = df['in'] * rate\n",
    "    df['out'] = df['out'] * rate\n",
    "\n",
    "    return df\n",
    "\n",
    "def get_monthly_category(df, year=2024):\n",
    "    # need to exchange everything to EUR and then do the calculations\n",
    "    cat_df = df[(df.apply(exchange_in_out, axis=1).year==year) & (df.apply(exchange_in_out, axis=1).account != 'generali_SAV')].groupby(['year','month','category']).agg({'in':'sum', 'out':'sum'}).reset_index()\n",
    "    cat_df\n",
    "\n",
    "    tmp = cat_df.groupby(['year','month'])['in'].sum().reset_index()\n",
    "    tmp = tmp.rename(columns={'in':'total_income'})\n",
    "\n",
    "    merged = pd.merge(left=cat_df, right=tmp)\n",
    "\n",
    "    # merged['pcg_in_out'] = (abs(merged['in'] - merged['out'])/merged.total_income) #* 100\n",
    "    merged['pcg_in_out'] = (merged['in'] - merged['out'])/merged.total_income #* 100\n",
    "\n",
    "    return merged\n",
    "\n",
    "get_monthly_category(df)"
   ]
  },
  {
   "cell_type": "code",
   "execution_count": 51,
   "metadata": {},
   "outputs": [
    {
     "data": {
      "application/vnd.plotly.v1+json": {
       "config": {
        "plotlyServerURL": "https://plot.ly"
       },
       "data": [
        {
         "alignmentgroup": "True",
         "hovertemplate": "pcg_in_out=%{x}<br>category=%{y}<extra></extra>",
         "legendgroup": "",
         "marker": {
          "color": [
           "red",
           "red",
           "green",
           "red",
           "red"
          ],
          "pattern": {
           "shape": ""
          }
         },
         "name": "",
         "offsetgroup": "",
         "orientation": "h",
         "showlegend": false,
         "textposition": "auto",
         "texttemplate": "%{x:.2%}",
         "type": "bar",
         "x": [
          -0.015513834707274528,
          -0.22315748333538402,
          0.6359478022972199,
          -0.0017062685011616375,
          -0.20839636092554661
         ],
         "xaxis": "x",
         "y": [
          "bills",
          "needs",
          "salary",
          "subscription",
          "wants"
         ],
         "yaxis": "y"
        }
       ],
       "layout": {
        "barmode": "stack",
        "legend": {
         "tracegroupgap": 0
        },
        "margin": {
         "t": 60
        },
        "template": {
         "data": {
          "bar": [
           {
            "error_x": {
             "color": "#2a3f5f"
            },
            "error_y": {
             "color": "#2a3f5f"
            },
            "marker": {
             "line": {
              "color": "#E5ECF6",
              "width": 0.5
             },
             "pattern": {
              "fillmode": "overlay",
              "size": 10,
              "solidity": 0.2
             }
            },
            "type": "bar"
           }
          ],
          "barpolar": [
           {
            "marker": {
             "line": {
              "color": "#E5ECF6",
              "width": 0.5
             },
             "pattern": {
              "fillmode": "overlay",
              "size": 10,
              "solidity": 0.2
             }
            },
            "type": "barpolar"
           }
          ],
          "carpet": [
           {
            "aaxis": {
             "endlinecolor": "#2a3f5f",
             "gridcolor": "white",
             "linecolor": "white",
             "minorgridcolor": "white",
             "startlinecolor": "#2a3f5f"
            },
            "baxis": {
             "endlinecolor": "#2a3f5f",
             "gridcolor": "white",
             "linecolor": "white",
             "minorgridcolor": "white",
             "startlinecolor": "#2a3f5f"
            },
            "type": "carpet"
           }
          ],
          "choropleth": [
           {
            "colorbar": {
             "outlinewidth": 0,
             "ticks": ""
            },
            "type": "choropleth"
           }
          ],
          "contour": [
           {
            "colorbar": {
             "outlinewidth": 0,
             "ticks": ""
            },
            "colorscale": [
             [
              0,
              "#0d0887"
             ],
             [
              0.1111111111111111,
              "#46039f"
             ],
             [
              0.2222222222222222,
              "#7201a8"
             ],
             [
              0.3333333333333333,
              "#9c179e"
             ],
             [
              0.4444444444444444,
              "#bd3786"
             ],
             [
              0.5555555555555556,
              "#d8576b"
             ],
             [
              0.6666666666666666,
              "#ed7953"
             ],
             [
              0.7777777777777778,
              "#fb9f3a"
             ],
             [
              0.8888888888888888,
              "#fdca26"
             ],
             [
              1,
              "#f0f921"
             ]
            ],
            "type": "contour"
           }
          ],
          "contourcarpet": [
           {
            "colorbar": {
             "outlinewidth": 0,
             "ticks": ""
            },
            "type": "contourcarpet"
           }
          ],
          "heatmap": [
           {
            "colorbar": {
             "outlinewidth": 0,
             "ticks": ""
            },
            "colorscale": [
             [
              0,
              "#0d0887"
             ],
             [
              0.1111111111111111,
              "#46039f"
             ],
             [
              0.2222222222222222,
              "#7201a8"
             ],
             [
              0.3333333333333333,
              "#9c179e"
             ],
             [
              0.4444444444444444,
              "#bd3786"
             ],
             [
              0.5555555555555556,
              "#d8576b"
             ],
             [
              0.6666666666666666,
              "#ed7953"
             ],
             [
              0.7777777777777778,
              "#fb9f3a"
             ],
             [
              0.8888888888888888,
              "#fdca26"
             ],
             [
              1,
              "#f0f921"
             ]
            ],
            "type": "heatmap"
           }
          ],
          "heatmapgl": [
           {
            "colorbar": {
             "outlinewidth": 0,
             "ticks": ""
            },
            "colorscale": [
             [
              0,
              "#0d0887"
             ],
             [
              0.1111111111111111,
              "#46039f"
             ],
             [
              0.2222222222222222,
              "#7201a8"
             ],
             [
              0.3333333333333333,
              "#9c179e"
             ],
             [
              0.4444444444444444,
              "#bd3786"
             ],
             [
              0.5555555555555556,
              "#d8576b"
             ],
             [
              0.6666666666666666,
              "#ed7953"
             ],
             [
              0.7777777777777778,
              "#fb9f3a"
             ],
             [
              0.8888888888888888,
              "#fdca26"
             ],
             [
              1,
              "#f0f921"
             ]
            ],
            "type": "heatmapgl"
           }
          ],
          "histogram": [
           {
            "marker": {
             "pattern": {
              "fillmode": "overlay",
              "size": 10,
              "solidity": 0.2
             }
            },
            "type": "histogram"
           }
          ],
          "histogram2d": [
           {
            "colorbar": {
             "outlinewidth": 0,
             "ticks": ""
            },
            "colorscale": [
             [
              0,
              "#0d0887"
             ],
             [
              0.1111111111111111,
              "#46039f"
             ],
             [
              0.2222222222222222,
              "#7201a8"
             ],
             [
              0.3333333333333333,
              "#9c179e"
             ],
             [
              0.4444444444444444,
              "#bd3786"
             ],
             [
              0.5555555555555556,
              "#d8576b"
             ],
             [
              0.6666666666666666,
              "#ed7953"
             ],
             [
              0.7777777777777778,
              "#fb9f3a"
             ],
             [
              0.8888888888888888,
              "#fdca26"
             ],
             [
              1,
              "#f0f921"
             ]
            ],
            "type": "histogram2d"
           }
          ],
          "histogram2dcontour": [
           {
            "colorbar": {
             "outlinewidth": 0,
             "ticks": ""
            },
            "colorscale": [
             [
              0,
              "#0d0887"
             ],
             [
              0.1111111111111111,
              "#46039f"
             ],
             [
              0.2222222222222222,
              "#7201a8"
             ],
             [
              0.3333333333333333,
              "#9c179e"
             ],
             [
              0.4444444444444444,
              "#bd3786"
             ],
             [
              0.5555555555555556,
              "#d8576b"
             ],
             [
              0.6666666666666666,
              "#ed7953"
             ],
             [
              0.7777777777777778,
              "#fb9f3a"
             ],
             [
              0.8888888888888888,
              "#fdca26"
             ],
             [
              1,
              "#f0f921"
             ]
            ],
            "type": "histogram2dcontour"
           }
          ],
          "mesh3d": [
           {
            "colorbar": {
             "outlinewidth": 0,
             "ticks": ""
            },
            "type": "mesh3d"
           }
          ],
          "parcoords": [
           {
            "line": {
             "colorbar": {
              "outlinewidth": 0,
              "ticks": ""
             }
            },
            "type": "parcoords"
           }
          ],
          "pie": [
           {
            "automargin": true,
            "type": "pie"
           }
          ],
          "scatter": [
           {
            "fillpattern": {
             "fillmode": "overlay",
             "size": 10,
             "solidity": 0.2
            },
            "type": "scatter"
           }
          ],
          "scatter3d": [
           {
            "line": {
             "colorbar": {
              "outlinewidth": 0,
              "ticks": ""
             }
            },
            "marker": {
             "colorbar": {
              "outlinewidth": 0,
              "ticks": ""
             }
            },
            "type": "scatter3d"
           }
          ],
          "scattercarpet": [
           {
            "marker": {
             "colorbar": {
              "outlinewidth": 0,
              "ticks": ""
             }
            },
            "type": "scattercarpet"
           }
          ],
          "scattergeo": [
           {
            "marker": {
             "colorbar": {
              "outlinewidth": 0,
              "ticks": ""
             }
            },
            "type": "scattergeo"
           }
          ],
          "scattergl": [
           {
            "marker": {
             "colorbar": {
              "outlinewidth": 0,
              "ticks": ""
             }
            },
            "type": "scattergl"
           }
          ],
          "scattermapbox": [
           {
            "marker": {
             "colorbar": {
              "outlinewidth": 0,
              "ticks": ""
             }
            },
            "type": "scattermapbox"
           }
          ],
          "scatterpolar": [
           {
            "marker": {
             "colorbar": {
              "outlinewidth": 0,
              "ticks": ""
             }
            },
            "type": "scatterpolar"
           }
          ],
          "scatterpolargl": [
           {
            "marker": {
             "colorbar": {
              "outlinewidth": 0,
              "ticks": ""
             }
            },
            "type": "scatterpolargl"
           }
          ],
          "scatterternary": [
           {
            "marker": {
             "colorbar": {
              "outlinewidth": 0,
              "ticks": ""
             }
            },
            "type": "scatterternary"
           }
          ],
          "surface": [
           {
            "colorbar": {
             "outlinewidth": 0,
             "ticks": ""
            },
            "colorscale": [
             [
              0,
              "#0d0887"
             ],
             [
              0.1111111111111111,
              "#46039f"
             ],
             [
              0.2222222222222222,
              "#7201a8"
             ],
             [
              0.3333333333333333,
              "#9c179e"
             ],
             [
              0.4444444444444444,
              "#bd3786"
             ],
             [
              0.5555555555555556,
              "#d8576b"
             ],
             [
              0.6666666666666666,
              "#ed7953"
             ],
             [
              0.7777777777777778,
              "#fb9f3a"
             ],
             [
              0.8888888888888888,
              "#fdca26"
             ],
             [
              1,
              "#f0f921"
             ]
            ],
            "type": "surface"
           }
          ],
          "table": [
           {
            "cells": {
             "fill": {
              "color": "#EBF0F8"
             },
             "line": {
              "color": "white"
             }
            },
            "header": {
             "fill": {
              "color": "#C8D4E3"
             },
             "line": {
              "color": "white"
             }
            },
            "type": "table"
           }
          ]
         },
         "layout": {
          "annotationdefaults": {
           "arrowcolor": "#2a3f5f",
           "arrowhead": 0,
           "arrowwidth": 1
          },
          "autotypenumbers": "strict",
          "coloraxis": {
           "colorbar": {
            "outlinewidth": 0,
            "ticks": ""
           }
          },
          "colorscale": {
           "diverging": [
            [
             0,
             "#8e0152"
            ],
            [
             0.1,
             "#c51b7d"
            ],
            [
             0.2,
             "#de77ae"
            ],
            [
             0.3,
             "#f1b6da"
            ],
            [
             0.4,
             "#fde0ef"
            ],
            [
             0.5,
             "#f7f7f7"
            ],
            [
             0.6,
             "#e6f5d0"
            ],
            [
             0.7,
             "#b8e186"
            ],
            [
             0.8,
             "#7fbc41"
            ],
            [
             0.9,
             "#4d9221"
            ],
            [
             1,
             "#276419"
            ]
           ],
           "sequential": [
            [
             0,
             "#0d0887"
            ],
            [
             0.1111111111111111,
             "#46039f"
            ],
            [
             0.2222222222222222,
             "#7201a8"
            ],
            [
             0.3333333333333333,
             "#9c179e"
            ],
            [
             0.4444444444444444,
             "#bd3786"
            ],
            [
             0.5555555555555556,
             "#d8576b"
            ],
            [
             0.6666666666666666,
             "#ed7953"
            ],
            [
             0.7777777777777778,
             "#fb9f3a"
            ],
            [
             0.8888888888888888,
             "#fdca26"
            ],
            [
             1,
             "#f0f921"
            ]
           ],
           "sequentialminus": [
            [
             0,
             "#0d0887"
            ],
            [
             0.1111111111111111,
             "#46039f"
            ],
            [
             0.2222222222222222,
             "#7201a8"
            ],
            [
             0.3333333333333333,
             "#9c179e"
            ],
            [
             0.4444444444444444,
             "#bd3786"
            ],
            [
             0.5555555555555556,
             "#d8576b"
            ],
            [
             0.6666666666666666,
             "#ed7953"
            ],
            [
             0.7777777777777778,
             "#fb9f3a"
            ],
            [
             0.8888888888888888,
             "#fdca26"
            ],
            [
             1,
             "#f0f921"
            ]
           ]
          },
          "colorway": [
           "#636efa",
           "#EF553B",
           "#00cc96",
           "#ab63fa",
           "#FFA15A",
           "#19d3f3",
           "#FF6692",
           "#B6E880",
           "#FF97FF",
           "#FECB52"
          ],
          "font": {
           "color": "#2a3f5f"
          },
          "geo": {
           "bgcolor": "white",
           "lakecolor": "white",
           "landcolor": "#E5ECF6",
           "showlakes": true,
           "showland": true,
           "subunitcolor": "white"
          },
          "hoverlabel": {
           "align": "left"
          },
          "hovermode": "closest",
          "mapbox": {
           "style": "light"
          },
          "paper_bgcolor": "white",
          "plot_bgcolor": "#E5ECF6",
          "polar": {
           "angularaxis": {
            "gridcolor": "white",
            "linecolor": "white",
            "ticks": ""
           },
           "bgcolor": "#E5ECF6",
           "radialaxis": {
            "gridcolor": "white",
            "linecolor": "white",
            "ticks": ""
           }
          },
          "scene": {
           "xaxis": {
            "backgroundcolor": "#E5ECF6",
            "gridcolor": "white",
            "gridwidth": 2,
            "linecolor": "white",
            "showbackground": true,
            "ticks": "",
            "zerolinecolor": "white"
           },
           "yaxis": {
            "backgroundcolor": "#E5ECF6",
            "gridcolor": "white",
            "gridwidth": 2,
            "linecolor": "white",
            "showbackground": true,
            "ticks": "",
            "zerolinecolor": "white"
           },
           "zaxis": {
            "backgroundcolor": "#E5ECF6",
            "gridcolor": "white",
            "gridwidth": 2,
            "linecolor": "white",
            "showbackground": true,
            "ticks": "",
            "zerolinecolor": "white"
           }
          },
          "shapedefaults": {
           "line": {
            "color": "#2a3f5f"
           }
          },
          "ternary": {
           "aaxis": {
            "gridcolor": "white",
            "linecolor": "white",
            "ticks": ""
           },
           "baxis": {
            "gridcolor": "white",
            "linecolor": "white",
            "ticks": ""
           },
           "bgcolor": "#E5ECF6",
           "caxis": {
            "gridcolor": "white",
            "linecolor": "white",
            "ticks": ""
           }
          },
          "title": {
           "x": 0.05
          },
          "xaxis": {
           "automargin": true,
           "gridcolor": "white",
           "linecolor": "white",
           "ticks": "",
           "title": {
            "standoff": 15
           },
           "zerolinecolor": "white",
           "zerolinewidth": 2
          },
          "yaxis": {
           "automargin": true,
           "gridcolor": "white",
           "linecolor": "white",
           "ticks": "",
           "title": {
            "standoff": 15
           },
           "zerolinecolor": "white",
           "zerolinewidth": 2
          }
         }
        },
        "title": {
         "text": "% in/out by category | Aug, 2024"
        },
        "xaxis": {
         "anchor": "y",
         "domain": [
          0,
          1
         ],
         "tickformat": ".0%",
         "title": {
          "text": ""
         }
        },
        "yaxis": {
         "anchor": "x",
         "domain": [
          0,
          1
         ],
         "title": {
          "text": ""
         }
        }
       }
      }
     },
     "metadata": {},
     "output_type": "display_data"
    }
   ],
   "source": [
    "def pcg_category_plot(df, year=2024, month=8):\n",
    "    data = get_monthly_category(df, year)\n",
    "    data = data[data.month==month]\n",
    "\n",
    "    title = f'Percentage of in/out by category | {MONTHS[month-1].capitalize()}, {year}'\n",
    "\n",
    "    data['color'] = np.where(data.pcg_in_out < 0, 'red', 'green')\n",
    "    fig = px.bar(\n",
    "        data_frame=data[(data.pcg_in_out != 0)],\n",
    "        # data_frame=data,\n",
    "        x='pcg_in_out',\n",
    "        y='category',\n",
    "        barmode='stack',\n",
    "        text_auto='.2%',\n",
    "    )\n",
    "\n",
    "    fig.update_layout(xaxis_tickformat='.0%', title=title, xaxis_title='', yaxis_title='')\n",
    "    fig.update_traces(marker_color=data[(data.pcg_in_out != 0)].color)\n",
    "\n",
    "    return fig\n",
    "\n",
    "pcg_category_plot(df).show()\n"
   ]
  },
  {
   "cell_type": "code",
   "execution_count": null,
   "metadata": {},
   "outputs": [],
   "source": []
  }
 ],
 "metadata": {
  "colab": {
   "provenance": []
  },
  "kernelspec": {
   "display_name": ".venv",
   "language": "python",
   "name": "python3"
  },
  "language_info": {
   "codemirror_mode": {
    "name": "ipython",
    "version": 3
   },
   "file_extension": ".py",
   "mimetype": "text/x-python",
   "name": "python",
   "nbconvert_exporter": "python",
   "pygments_lexer": "ipython3",
   "version": "3.11.5"
  },
  "widgets": {
   "application/vnd.jupyter.widget-state+json": {
    "013fdb0add81456b80caf52802bf1175": {
     "model_module": "@jupyter-widgets/base",
     "model_module_version": "1.2.0",
     "model_name": "LayoutModel",
     "state": {
      "_model_module": "@jupyter-widgets/base",
      "_model_module_version": "1.2.0",
      "_model_name": "LayoutModel",
      "_view_count": null,
      "_view_module": "@jupyter-widgets/base",
      "_view_module_version": "1.2.0",
      "_view_name": "LayoutView",
      "align_content": null,
      "align_items": null,
      "align_self": null,
      "border": null,
      "bottom": null,
      "display": null,
      "flex": null,
      "flex_flow": null,
      "grid_area": null,
      "grid_auto_columns": null,
      "grid_auto_flow": null,
      "grid_auto_rows": null,
      "grid_column": null,
      "grid_gap": null,
      "grid_row": null,
      "grid_template_areas": null,
      "grid_template_columns": null,
      "grid_template_rows": null,
      "height": null,
      "justify_content": null,
      "justify_items": null,
      "left": null,
      "margin": null,
      "max_height": null,
      "max_width": null,
      "min_height": null,
      "min_width": null,
      "object_fit": null,
      "object_position": null,
      "order": null,
      "overflow": null,
      "overflow_x": null,
      "overflow_y": null,
      "padding": null,
      "right": null,
      "top": null,
      "visibility": null,
      "width": null
     }
    },
    "08a88152ce3141b29549f3dc18a3fb8a": {
     "model_module": "@jupyter-widgets/controls",
     "model_module_version": "1.5.0",
     "model_name": "DropdownModel",
     "state": {
      "_dom_classes": [],
      "_model_module": "@jupyter-widgets/controls",
      "_model_module_version": "1.5.0",
      "_model_name": "DropdownModel",
      "_options_labels": [
       "2019",
       "2020",
       "2021",
       "2022",
       "2023",
       "2024"
      ],
      "_view_count": null,
      "_view_module": "@jupyter-widgets/controls",
      "_view_module_version": "1.5.0",
      "_view_name": "DropdownView",
      "description": "year",
      "description_tooltip": null,
      "disabled": false,
      "index": 5,
      "layout": "IPY_MODEL_85d73d5eaecb4dcf841e16594825ecfa",
      "style": "IPY_MODEL_66695a6339e04f559abd451032a410e4"
     }
    },
    "1183355f32ec434299aecb5bfb106cf3": {
     "model_module": "@jupyter-widgets/controls",
     "model_module_version": "1.5.0",
     "model_name": "DescriptionStyleModel",
     "state": {
      "_model_module": "@jupyter-widgets/controls",
      "_model_module_version": "1.5.0",
      "_model_name": "DescriptionStyleModel",
      "_view_count": null,
      "_view_module": "@jupyter-widgets/base",
      "_view_module_version": "1.2.0",
      "_view_name": "StyleView",
      "description_width": ""
     }
    },
    "2a95419d05a44664a7e422ae8f796457": {
     "model_module": "@jupyter-widgets/base",
     "model_module_version": "1.2.0",
     "model_name": "LayoutModel",
     "state": {
      "_model_module": "@jupyter-widgets/base",
      "_model_module_version": "1.2.0",
      "_model_name": "LayoutModel",
      "_view_count": null,
      "_view_module": "@jupyter-widgets/base",
      "_view_module_version": "1.2.0",
      "_view_name": "LayoutView",
      "align_content": null,
      "align_items": null,
      "align_self": null,
      "border": null,
      "bottom": null,
      "display": null,
      "flex": null,
      "flex_flow": null,
      "grid_area": null,
      "grid_auto_columns": null,
      "grid_auto_flow": null,
      "grid_auto_rows": null,
      "grid_column": null,
      "grid_gap": null,
      "grid_row": null,
      "grid_template_areas": null,
      "grid_template_columns": null,
      "grid_template_rows": null,
      "height": null,
      "justify_content": null,
      "justify_items": null,
      "left": null,
      "margin": null,
      "max_height": null,
      "max_width": null,
      "min_height": null,
      "min_width": null,
      "object_fit": null,
      "object_position": null,
      "order": null,
      "overflow": null,
      "overflow_x": null,
      "overflow_y": null,
      "padding": null,
      "right": null,
      "top": null,
      "visibility": null,
      "width": null
     }
    },
    "2b67b5145b6f40e1af916d67e3cc4ad5": {
     "model_module": "@jupyter-widgets/output",
     "model_module_version": "1.0.0",
     "model_name": "OutputModel",
     "state": {
      "_dom_classes": [],
      "_model_module": "@jupyter-widgets/output",
      "_model_module_version": "1.0.0",
      "_model_name": "OutputModel",
      "_view_count": null,
      "_view_module": "@jupyter-widgets/output",
      "_view_module_version": "1.0.0",
      "_view_name": "OutputView",
      "layout": "IPY_MODEL_b08d5615adc54f2e8541c789ffc94b3c",
      "msg_id": "",
      "outputs": [
       {
        "data": {
         "image/png": "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\n",
         "text/plain": "<Figure size 640x480 with 2 Axes>"
        },
        "metadata": {},
        "output_type": "display_data"
       },
       {
        "name": "stdout",
        "output_type": "stream",
        "text": [
         "    year  month account currency       in      out   in_out   balance\n",
         "50  2024      1   sella      EUR  1505.54  1330.47   175.07   7226.54\n",
         "51  2024      2   sella      EUR  1141.14  5760.16 -4619.02   2607.52\n",
         "52  2024      3   sella      EUR  6572.11  3623.25  2948.86   5556.38\n",
         "53  2024      4   sella      EUR  7988.53  4501.56  3486.97   9043.35\n",
         "54  2024      5   sella      EUR  3715.45  3564.76   150.69   9194.04\n",
         "55  2024      6   sella      EUR  5737.45   863.90  4873.55  14067.59\n",
         "56  2024      7   sella      EUR  1235.00  4493.70 -3258.70  10808.89\n"
        ]
       }
      ]
     }
    },
    "47e6d9034e094e9cab65b912c8840cb9": {
     "model_module": "@jupyter-widgets/controls",
     "model_module_version": "1.5.0",
     "model_name": "VBoxModel",
     "state": {
      "_dom_classes": [
       "widget-interact"
      ],
      "_model_module": "@jupyter-widgets/controls",
      "_model_module_version": "1.5.0",
      "_model_name": "VBoxModel",
      "_view_count": null,
      "_view_module": "@jupyter-widgets/controls",
      "_view_module_version": "1.5.0",
      "_view_name": "VBoxView",
      "box_style": "",
      "children": [
       "IPY_MODEL_ec922b0c8825481481525d66d4bb7c95",
       "IPY_MODEL_d2ef6d0df15644faaed4aaf945195683"
      ],
      "layout": "IPY_MODEL_5caeb86fe2794c2983069894176348b3"
     }
    },
    "53ad98fa14b144a7b2809c0b6c4d49c4": {
     "model_module": "@jupyter-widgets/controls",
     "model_module_version": "1.5.0",
     "model_name": "DropdownModel",
     "state": {
      "_dom_classes": [],
      "_model_module": "@jupyter-widgets/controls",
      "_model_module_version": "1.5.0",
      "_model_name": "DropdownModel",
      "_options_labels": [
       "sella",
       "generali",
       "generali_SAV",
       "revolut_GBP",
       "revolut_EUR"
      ],
      "_view_count": null,
      "_view_module": "@jupyter-widgets/controls",
      "_view_module_version": "1.5.0",
      "_view_name": "DropdownView",
      "description": "account_name",
      "description_tooltip": null,
      "disabled": false,
      "index": 0,
      "layout": "IPY_MODEL_eb1eeb5d76a642f6bc4a52479af1a63d",
      "style": "IPY_MODEL_b63e7af90dc844d0899e7afeaf4e0d04"
     }
    },
    "5caeb86fe2794c2983069894176348b3": {
     "model_module": "@jupyter-widgets/base",
     "model_module_version": "1.2.0",
     "model_name": "LayoutModel",
     "state": {
      "_model_module": "@jupyter-widgets/base",
      "_model_module_version": "1.2.0",
      "_model_name": "LayoutModel",
      "_view_count": null,
      "_view_module": "@jupyter-widgets/base",
      "_view_module_version": "1.2.0",
      "_view_name": "LayoutView",
      "align_content": null,
      "align_items": null,
      "align_self": null,
      "border": null,
      "bottom": null,
      "display": null,
      "flex": null,
      "flex_flow": null,
      "grid_area": null,
      "grid_auto_columns": null,
      "grid_auto_flow": null,
      "grid_auto_rows": null,
      "grid_column": null,
      "grid_gap": null,
      "grid_row": null,
      "grid_template_areas": null,
      "grid_template_columns": null,
      "grid_template_rows": null,
      "height": null,
      "justify_content": null,
      "justify_items": null,
      "left": null,
      "margin": null,
      "max_height": null,
      "max_width": null,
      "min_height": null,
      "min_width": null,
      "object_fit": null,
      "object_position": null,
      "order": null,
      "overflow": null,
      "overflow_x": null,
      "overflow_y": null,
      "padding": null,
      "right": null,
      "top": null,
      "visibility": null,
      "width": null
     }
    },
    "66695a6339e04f559abd451032a410e4": {
     "model_module": "@jupyter-widgets/controls",
     "model_module_version": "1.5.0",
     "model_name": "DescriptionStyleModel",
     "state": {
      "_model_module": "@jupyter-widgets/controls",
      "_model_module_version": "1.5.0",
      "_model_name": "DescriptionStyleModel",
      "_view_count": null,
      "_view_module": "@jupyter-widgets/base",
      "_view_module_version": "1.2.0",
      "_view_name": "StyleView",
      "description_width": ""
     }
    },
    "6b710a778655456b90aa3cf6b1bb9f69": {
     "model_module": "@jupyter-widgets/controls",
     "model_module_version": "1.5.0",
     "model_name": "VBoxModel",
     "state": {
      "_dom_classes": [
       "widget-interact"
      ],
      "_model_module": "@jupyter-widgets/controls",
      "_model_module_version": "1.5.0",
      "_model_name": "VBoxModel",
      "_view_count": null,
      "_view_module": "@jupyter-widgets/controls",
      "_view_module_version": "1.5.0",
      "_view_name": "VBoxView",
      "box_style": "",
      "children": [
       "IPY_MODEL_53ad98fa14b144a7b2809c0b6c4d49c4",
       "IPY_MODEL_08a88152ce3141b29549f3dc18a3fb8a",
       "IPY_MODEL_2b67b5145b6f40e1af916d67e3cc4ad5"
      ],
      "layout": "IPY_MODEL_e33a98d115604b34a5a2e36accaa0075"
     }
    },
    "85d73d5eaecb4dcf841e16594825ecfa": {
     "model_module": "@jupyter-widgets/base",
     "model_module_version": "1.2.0",
     "model_name": "LayoutModel",
     "state": {
      "_model_module": "@jupyter-widgets/base",
      "_model_module_version": "1.2.0",
      "_model_name": "LayoutModel",
      "_view_count": null,
      "_view_module": "@jupyter-widgets/base",
      "_view_module_version": "1.2.0",
      "_view_name": "LayoutView",
      "align_content": null,
      "align_items": null,
      "align_self": null,
      "border": null,
      "bottom": null,
      "display": null,
      "flex": null,
      "flex_flow": null,
      "grid_area": null,
      "grid_auto_columns": null,
      "grid_auto_flow": null,
      "grid_auto_rows": null,
      "grid_column": null,
      "grid_gap": null,
      "grid_row": null,
      "grid_template_areas": null,
      "grid_template_columns": null,
      "grid_template_rows": null,
      "height": null,
      "justify_content": null,
      "justify_items": null,
      "left": null,
      "margin": null,
      "max_height": null,
      "max_width": null,
      "min_height": null,
      "min_width": null,
      "object_fit": null,
      "object_position": null,
      "order": null,
      "overflow": null,
      "overflow_x": null,
      "overflow_y": null,
      "padding": null,
      "right": null,
      "top": null,
      "visibility": null,
      "width": null
     }
    },
    "b08d5615adc54f2e8541c789ffc94b3c": {
     "model_module": "@jupyter-widgets/base",
     "model_module_version": "1.2.0",
     "model_name": "LayoutModel",
     "state": {
      "_model_module": "@jupyter-widgets/base",
      "_model_module_version": "1.2.0",
      "_model_name": "LayoutModel",
      "_view_count": null,
      "_view_module": "@jupyter-widgets/base",
      "_view_module_version": "1.2.0",
      "_view_name": "LayoutView",
      "align_content": null,
      "align_items": null,
      "align_self": null,
      "border": null,
      "bottom": null,
      "display": null,
      "flex": null,
      "flex_flow": null,
      "grid_area": null,
      "grid_auto_columns": null,
      "grid_auto_flow": null,
      "grid_auto_rows": null,
      "grid_column": null,
      "grid_gap": null,
      "grid_row": null,
      "grid_template_areas": null,
      "grid_template_columns": null,
      "grid_template_rows": null,
      "height": null,
      "justify_content": null,
      "justify_items": null,
      "left": null,
      "margin": null,
      "max_height": null,
      "max_width": null,
      "min_height": null,
      "min_width": null,
      "object_fit": null,
      "object_position": null,
      "order": null,
      "overflow": null,
      "overflow_x": null,
      "overflow_y": null,
      "padding": null,
      "right": null,
      "top": null,
      "visibility": null,
      "width": null
     }
    },
    "b63e7af90dc844d0899e7afeaf4e0d04": {
     "model_module": "@jupyter-widgets/controls",
     "model_module_version": "1.5.0",
     "model_name": "DescriptionStyleModel",
     "state": {
      "_model_module": "@jupyter-widgets/controls",
      "_model_module_version": "1.5.0",
      "_model_name": "DescriptionStyleModel",
      "_view_count": null,
      "_view_module": "@jupyter-widgets/base",
      "_view_module_version": "1.2.0",
      "_view_name": "StyleView",
      "description_width": ""
     }
    },
    "d2ef6d0df15644faaed4aaf945195683": {
     "model_module": "@jupyter-widgets/output",
     "model_module_version": "1.0.0",
     "model_name": "OutputModel",
     "state": {
      "_dom_classes": [],
      "_model_module": "@jupyter-widgets/output",
      "_model_module_version": "1.0.0",
      "_model_name": "OutputModel",
      "_view_count": null,
      "_view_module": "@jupyter-widgets/output",
      "_view_module_version": "1.0.0",
      "_view_name": "OutputView",
      "layout": "IPY_MODEL_2a95419d05a44664a7e422ae8f796457",
      "msg_id": "",
      "outputs": [
       {
        "name": "stdout",
        "output_type": "stream",
        "text": [
         "     year  month      account currency      category       in      out  \\\n",
         "96   2024      1        sella      EUR        salary  1505.54     0.00   \n",
         "97   2024      1        sella      EUR         wants     0.00  1330.47   \n",
         "98   2024      2        sella      EUR         needs     0.00  4848.00   \n",
         "99   2024      2        sella      EUR        salary  1141.14     0.00   \n",
         "100  2024      2        sella      EUR         wants     0.00   912.16   \n",
         "101  2024      3        sella      EUR         bills     0.00   150.00   \n",
         "102  2024      3        sella      EUR         needs  2424.00  2733.61   \n",
         "103  2024      3        sella      EUR        salary  4148.11     0.00   \n",
         "104  2024      3        sella      EUR  subscription     0.00    59.40   \n",
         "105  2024      3        sella      EUR         wants     0.00   680.24   \n",
         "106  2024      4        sella      EUR         bills     0.00   200.00   \n",
         "107  2024      4        sella      EUR         needs  2524.00  3031.02   \n",
         "108  2024      4        sella      EUR        refund    17.20     0.00   \n",
         "109  2024      4        sella      EUR        salary  5447.33     0.00   \n",
         "110  2024      4        sella      EUR  subscription     0.00     9.54   \n",
         "111  2024      4        sella      EUR      transfer     0.00  1000.00   \n",
         "112  2024      4        sella      EUR         wants     0.00   261.00   \n",
         "113  2024      5        sella      EUR         needs     0.00  2577.78   \n",
         "114  2024      5        sella      EUR        refund    74.99     0.00   \n",
         "115  2024      5        sella      EUR        salary  3640.46     0.00   \n",
         "116  2024      5        sella      EUR  subscription     0.00     9.57   \n",
         "117  2024      5        sella      EUR         wants     0.00   977.41   \n",
         "118  2024      6        sella      EUR         needs  1262.00   188.68   \n",
         "119  2024      6        sella      EUR        refund    50.00     0.00   \n",
         "120  2024      6        sella      EUR        salary  4425.45     0.00   \n",
         "121  2024      6        sella      EUR  subscription     0.00     9.49   \n",
         "122  2024      6        sella      EUR      transfer     0.00   500.00   \n",
         "123  2024      6        sella      EUR         wants     0.00   165.73   \n",
         "124  2024      7        sella      EUR         needs  1212.00  3128.50   \n",
         "125  2024      7        sella      EUR  subscription     0.00     9.52   \n",
         "126  2024      7        sella      EUR      transfer     0.00   500.00   \n",
         "127  2024      7        sella      EUR         wants    23.00   855.68   \n",
         "128  2024      2  revolut_EUR      EUR      transfer   479.33     0.00   \n",
         "129  2024      2  revolut_EUR      EUR         wants     0.00   478.15   \n",
         "130  2024      3  revolut_EUR      EUR         needs     0.00   274.37   \n",
         "131  2024      3  revolut_EUR      EUR      transfer  1001.33     0.00   \n",
         "132  2024      3  revolut_EUR      EUR         wants     0.00   725.24   \n",
         "133  2024      4  revolut_EUR      EUR         bills     0.00    27.99   \n",
         "134  2024      4  revolut_EUR      EUR         needs     0.00   112.58   \n",
         "135  2024      4  revolut_EUR      EUR      transfer  1000.00     0.00   \n",
         "136  2024      4  revolut_EUR      EUR         wants     0.00   367.00   \n",
         "137  2024      5  revolut_EUR      EUR         needs     0.00    95.15   \n",
         "138  2024      5  revolut_EUR      EUR         wants     0.00   397.87   \n",
         "139  2024      6  revolut_EUR      EUR         bills     0.00    20.00   \n",
         "140  2024      6  revolut_EUR      EUR         needs     0.00   212.61   \n",
         "141  2024      6  revolut_EUR      EUR  subscription     0.00    49.99   \n",
         "142  2024      6  revolut_EUR      EUR      transfer   618.00     0.00   \n",
         "143  2024      6  revolut_EUR      EUR         wants    20.00   354.57   \n",
         "144  2024      7  revolut_EUR      EUR         needs     0.00   208.70   \n",
         "145  2024      7  revolut_EUR      EUR      transfer   500.00     0.00   \n",
         "146  2024      7  revolut_EUR      EUR         wants     0.00   278.84   \n",
         "\n",
         "     total_income  \n",
         "96        1505.54  \n",
         "97        1505.54  \n",
         "98        1141.14  \n",
         "99        1141.14  \n",
         "100       1141.14  \n",
         "101       6572.11  \n",
         "102       6572.11  \n",
         "103       6572.11  \n",
         "104       6572.11  \n",
         "105       6572.11  \n",
         "106       7988.53  \n",
         "107       7988.53  \n",
         "108       7988.53  \n",
         "109       7988.53  \n",
         "110       7988.53  \n",
         "111       7988.53  \n",
         "112       7988.53  \n",
         "113       3715.45  \n",
         "114       3715.45  \n",
         "115       3715.45  \n",
         "116       3715.45  \n",
         "117       3715.45  \n",
         "118       5737.45  \n",
         "119       5737.45  \n",
         "120       5737.45  \n",
         "121       5737.45  \n",
         "122       5737.45  \n",
         "123       5737.45  \n",
         "124       1235.00  \n",
         "125       1235.00  \n",
         "126       1235.00  \n",
         "127       1235.00  \n",
         "128        479.33  \n",
         "129        479.33  \n",
         "130       1001.33  \n",
         "131       1001.33  \n",
         "132       1001.33  \n",
         "133       1000.00  \n",
         "134       1000.00  \n",
         "135       1000.00  \n",
         "136       1000.00  \n",
         "137          0.00  \n",
         "138          0.00  \n",
         "139        638.00  \n",
         "140        638.00  \n",
         "141        638.00  \n",
         "142        638.00  \n",
         "143        638.00  \n",
         "144        500.00  \n",
         "145        500.00  \n",
         "146        500.00  \n"
        ]
       },
       {
        "data": {
         "image/png": "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\n",
         "text/plain": "<Figure size 640x480 with 1 Axes>"
        },
        "metadata": {},
        "output_type": "display_data"
       },
       {
        "name": "stdout",
        "output_type": "stream",
        "text": [
         "    year  month      category  total_income   in_out     pcg\n",
         "1   2024      1         wants       1505.54 -1330.47   88.37\n",
         "2   2024      2         needs       1141.14 -4848.00  424.84\n",
         "5   2024      2         wants       1620.47 -1390.31   85.80\n",
         "6   2024      3         bills       6572.11  -150.00    2.28\n",
         "7   2024      3         needs       7573.44  -583.98    7.71\n",
         "9   2024      3  subscription       6572.11   -59.40    0.90\n",
         "11  2024      3         wants       7573.44 -1405.48   18.56\n",
         "12  2024      4         bills       8988.53  -227.99    2.54\n",
         "13  2024      4         needs       8988.53  -619.60    6.89\n",
         "16  2024      4  subscription       7988.53    -9.54    0.12\n",
         "18  2024      4         wants       8988.53  -628.00    6.99\n",
         "19  2024      5         needs       3715.45 -2672.93   71.94\n",
         "22  2024      5  subscription       3715.45    -9.57    0.26\n",
         "23  2024      5         wants       3715.45 -1375.28   37.02\n",
         "24  2024      6         bills        638.00   -20.00    3.13\n",
         "25  2024      6         needs       6375.45   860.71   13.50\n",
         "28  2024      6  subscription       6375.45   -59.48    0.93\n",
         "30  2024      6         wants       6375.45  -500.30    7.85\n",
         "31  2024      7         needs       1735.00 -2125.20  122.49\n",
         "32  2024      7  subscription       1235.00    -9.52    0.77\n",
         "34  2024      7         wants       1735.00 -1111.52   64.06\n"
        ]
       }
      ]
     }
    },
    "e33a98d115604b34a5a2e36accaa0075": {
     "model_module": "@jupyter-widgets/base",
     "model_module_version": "1.2.0",
     "model_name": "LayoutModel",
     "state": {
      "_model_module": "@jupyter-widgets/base",
      "_model_module_version": "1.2.0",
      "_model_name": "LayoutModel",
      "_view_count": null,
      "_view_module": "@jupyter-widgets/base",
      "_view_module_version": "1.2.0",
      "_view_name": "LayoutView",
      "align_content": null,
      "align_items": null,
      "align_self": null,
      "border": null,
      "bottom": null,
      "display": null,
      "flex": null,
      "flex_flow": null,
      "grid_area": null,
      "grid_auto_columns": null,
      "grid_auto_flow": null,
      "grid_auto_rows": null,
      "grid_column": null,
      "grid_gap": null,
      "grid_row": null,
      "grid_template_areas": null,
      "grid_template_columns": null,
      "grid_template_rows": null,
      "height": null,
      "justify_content": null,
      "justify_items": null,
      "left": null,
      "margin": null,
      "max_height": null,
      "max_width": null,
      "min_height": null,
      "min_width": null,
      "object_fit": null,
      "object_position": null,
      "order": null,
      "overflow": null,
      "overflow_x": null,
      "overflow_y": null,
      "padding": null,
      "right": null,
      "top": null,
      "visibility": null,
      "width": null
     }
    },
    "eb1eeb5d76a642f6bc4a52479af1a63d": {
     "model_module": "@jupyter-widgets/base",
     "model_module_version": "1.2.0",
     "model_name": "LayoutModel",
     "state": {
      "_model_module": "@jupyter-widgets/base",
      "_model_module_version": "1.2.0",
      "_model_name": "LayoutModel",
      "_view_count": null,
      "_view_module": "@jupyter-widgets/base",
      "_view_module_version": "1.2.0",
      "_view_name": "LayoutView",
      "align_content": null,
      "align_items": null,
      "align_self": null,
      "border": null,
      "bottom": null,
      "display": null,
      "flex": null,
      "flex_flow": null,
      "grid_area": null,
      "grid_auto_columns": null,
      "grid_auto_flow": null,
      "grid_auto_rows": null,
      "grid_column": null,
      "grid_gap": null,
      "grid_row": null,
      "grid_template_areas": null,
      "grid_template_columns": null,
      "grid_template_rows": null,
      "height": null,
      "justify_content": null,
      "justify_items": null,
      "left": null,
      "margin": null,
      "max_height": null,
      "max_width": null,
      "min_height": null,
      "min_width": null,
      "object_fit": null,
      "object_position": null,
      "order": null,
      "overflow": null,
      "overflow_x": null,
      "overflow_y": null,
      "padding": null,
      "right": null,
      "top": null,
      "visibility": null,
      "width": null
     }
    },
    "ec922b0c8825481481525d66d4bb7c95": {
     "model_module": "@jupyter-widgets/controls",
     "model_module_version": "1.5.0",
     "model_name": "DropdownModel",
     "state": {
      "_dom_classes": [],
      "_model_module": "@jupyter-widgets/controls",
      "_model_module_version": "1.5.0",
      "_model_name": "DropdownModel",
      "_options_labels": [
       "2019",
       "2020",
       "2021",
       "2022",
       "2023",
       "2024"
      ],
      "_view_count": null,
      "_view_module": "@jupyter-widgets/controls",
      "_view_module_version": "1.5.0",
      "_view_name": "DropdownView",
      "description": "year",
      "description_tooltip": null,
      "disabled": false,
      "index": 5,
      "layout": "IPY_MODEL_013fdb0add81456b80caf52802bf1175",
      "style": "IPY_MODEL_1183355f32ec434299aecb5bfb106cf3"
     }
    }
   }
  }
 },
 "nbformat": 4,
 "nbformat_minor": 0
}
